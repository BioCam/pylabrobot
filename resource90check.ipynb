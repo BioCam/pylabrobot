{
 "cells": [
  {
   "cell_type": "code",
   "execution_count": 1,
   "metadata": {},
   "outputs": [],
   "source": [
    "from pylabrobot.liquid_handling.resources import HT_P, HT_L, Coordinate"
   ]
  },
  {
   "cell_type": "code",
   "execution_count": 3,
   "metadata": {},
   "outputs": [
    {
     "data": {
      "text/plain": [
       "(122.4, 82.6)"
      ]
     },
     "execution_count": 3,
     "metadata": {},
     "output_type": "execute_result"
    }
   ],
   "source": [
    "l.get_size_x(), l.get_size_y()"
   ]
  },
  {
   "cell_type": "code",
   "execution_count": 2,
   "metadata": {},
   "outputs": [
    {
     "data": {
      "text/plain": [
       "[TipSpot(name=test_tipspot_0_0, location=(007.200, 068.300, -83.500), size_x=9.0, size_y=9.0, size_z=0, category=tip_spot),\n",
       " TipSpot(name=test_tipspot_0_1, location=(007.200, 059.300, -83.500), size_x=9.0, size_y=9.0, size_z=0, category=tip_spot),\n",
       " TipSpot(name=test_tipspot_0_2, location=(007.200, 050.300, -83.500), size_x=9.0, size_y=9.0, size_z=0, category=tip_spot),\n",
       " TipSpot(name=test_tipspot_0_3, location=(007.200, 041.300, -83.500), size_x=9.0, size_y=9.0, size_z=0, category=tip_spot),\n",
       " TipSpot(name=test_tipspot_0_4, location=(007.200, 032.300, -83.500), size_x=9.0, size_y=9.0, size_z=0, category=tip_spot),\n",
       " TipSpot(name=test_tipspot_0_5, location=(007.200, 023.300, -83.500), size_x=9.0, size_y=9.0, size_z=0, category=tip_spot),\n",
       " TipSpot(name=test_tipspot_0_6, location=(007.200, 014.300, -83.500), size_x=9.0, size_y=9.0, size_z=0, category=tip_spot),\n",
       " TipSpot(name=test_tipspot_0_7, location=(007.200, 005.300, -83.500), size_x=9.0, size_y=9.0, size_z=0, category=tip_spot),\n",
       " TipSpot(name=test_tipspot_1_0, location=(016.200, 068.300, -83.500), size_x=9.0, size_y=9.0, size_z=0, category=tip_spot),\n",
       " TipSpot(name=test_tipspot_1_1, location=(016.200, 059.300, -83.500), size_x=9.0, size_y=9.0, size_z=0, category=tip_spot),\n",
       " TipSpot(name=test_tipspot_1_2, location=(016.200, 050.300, -83.500), size_x=9.0, size_y=9.0, size_z=0, category=tip_spot),\n",
       " TipSpot(name=test_tipspot_1_3, location=(016.200, 041.300, -83.500), size_x=9.0, size_y=9.0, size_z=0, category=tip_spot),\n",
       " TipSpot(name=test_tipspot_1_4, location=(016.200, 032.300, -83.500), size_x=9.0, size_y=9.0, size_z=0, category=tip_spot),\n",
       " TipSpot(name=test_tipspot_1_5, location=(016.200, 023.300, -83.500), size_x=9.0, size_y=9.0, size_z=0, category=tip_spot),\n",
       " TipSpot(name=test_tipspot_1_6, location=(016.200, 014.300, -83.500), size_x=9.0, size_y=9.0, size_z=0, category=tip_spot),\n",
       " TipSpot(name=test_tipspot_1_7, location=(016.200, 005.300, -83.500), size_x=9.0, size_y=9.0, size_z=0, category=tip_spot),\n",
       " TipSpot(name=test_tipspot_2_0, location=(025.200, 068.300, -83.500), size_x=9.0, size_y=9.0, size_z=0, category=tip_spot),\n",
       " TipSpot(name=test_tipspot_2_1, location=(025.200, 059.300, -83.500), size_x=9.0, size_y=9.0, size_z=0, category=tip_spot),\n",
       " TipSpot(name=test_tipspot_2_2, location=(025.200, 050.300, -83.500), size_x=9.0, size_y=9.0, size_z=0, category=tip_spot),\n",
       " TipSpot(name=test_tipspot_2_3, location=(025.200, 041.300, -83.500), size_x=9.0, size_y=9.0, size_z=0, category=tip_spot),\n",
       " TipSpot(name=test_tipspot_2_4, location=(025.200, 032.300, -83.500), size_x=9.0, size_y=9.0, size_z=0, category=tip_spot),\n",
       " TipSpot(name=test_tipspot_2_5, location=(025.200, 023.300, -83.500), size_x=9.0, size_y=9.0, size_z=0, category=tip_spot),\n",
       " TipSpot(name=test_tipspot_2_6, location=(025.200, 014.300, -83.500), size_x=9.0, size_y=9.0, size_z=0, category=tip_spot),\n",
       " TipSpot(name=test_tipspot_2_7, location=(025.200, 005.300, -83.500), size_x=9.0, size_y=9.0, size_z=0, category=tip_spot),\n",
       " TipSpot(name=test_tipspot_3_0, location=(034.200, 068.300, -83.500), size_x=9.0, size_y=9.0, size_z=0, category=tip_spot),\n",
       " TipSpot(name=test_tipspot_3_1, location=(034.200, 059.300, -83.500), size_x=9.0, size_y=9.0, size_z=0, category=tip_spot),\n",
       " TipSpot(name=test_tipspot_3_2, location=(034.200, 050.300, -83.500), size_x=9.0, size_y=9.0, size_z=0, category=tip_spot),\n",
       " TipSpot(name=test_tipspot_3_3, location=(034.200, 041.300, -83.500), size_x=9.0, size_y=9.0, size_z=0, category=tip_spot),\n",
       " TipSpot(name=test_tipspot_3_4, location=(034.200, 032.300, -83.500), size_x=9.0, size_y=9.0, size_z=0, category=tip_spot),\n",
       " TipSpot(name=test_tipspot_3_5, location=(034.200, 023.300, -83.500), size_x=9.0, size_y=9.0, size_z=0, category=tip_spot),\n",
       " TipSpot(name=test_tipspot_3_6, location=(034.200, 014.300, -83.500), size_x=9.0, size_y=9.0, size_z=0, category=tip_spot),\n",
       " TipSpot(name=test_tipspot_3_7, location=(034.200, 005.300, -83.500), size_x=9.0, size_y=9.0, size_z=0, category=tip_spot),\n",
       " TipSpot(name=test_tipspot_4_0, location=(043.200, 068.300, -83.500), size_x=9.0, size_y=9.0, size_z=0, category=tip_spot),\n",
       " TipSpot(name=test_tipspot_4_1, location=(043.200, 059.300, -83.500), size_x=9.0, size_y=9.0, size_z=0, category=tip_spot),\n",
       " TipSpot(name=test_tipspot_4_2, location=(043.200, 050.300, -83.500), size_x=9.0, size_y=9.0, size_z=0, category=tip_spot),\n",
       " TipSpot(name=test_tipspot_4_3, location=(043.200, 041.300, -83.500), size_x=9.0, size_y=9.0, size_z=0, category=tip_spot),\n",
       " TipSpot(name=test_tipspot_4_4, location=(043.200, 032.300, -83.500), size_x=9.0, size_y=9.0, size_z=0, category=tip_spot),\n",
       " TipSpot(name=test_tipspot_4_5, location=(043.200, 023.300, -83.500), size_x=9.0, size_y=9.0, size_z=0, category=tip_spot),\n",
       " TipSpot(name=test_tipspot_4_6, location=(043.200, 014.300, -83.500), size_x=9.0, size_y=9.0, size_z=0, category=tip_spot),\n",
       " TipSpot(name=test_tipspot_4_7, location=(043.200, 005.300, -83.500), size_x=9.0, size_y=9.0, size_z=0, category=tip_spot),\n",
       " TipSpot(name=test_tipspot_5_0, location=(052.200, 068.300, -83.500), size_x=9.0, size_y=9.0, size_z=0, category=tip_spot),\n",
       " TipSpot(name=test_tipspot_5_1, location=(052.200, 059.300, -83.500), size_x=9.0, size_y=9.0, size_z=0, category=tip_spot),\n",
       " TipSpot(name=test_tipspot_5_2, location=(052.200, 050.300, -83.500), size_x=9.0, size_y=9.0, size_z=0, category=tip_spot),\n",
       " TipSpot(name=test_tipspot_5_3, location=(052.200, 041.300, -83.500), size_x=9.0, size_y=9.0, size_z=0, category=tip_spot),\n",
       " TipSpot(name=test_tipspot_5_4, location=(052.200, 032.300, -83.500), size_x=9.0, size_y=9.0, size_z=0, category=tip_spot),\n",
       " TipSpot(name=test_tipspot_5_5, location=(052.200, 023.300, -83.500), size_x=9.0, size_y=9.0, size_z=0, category=tip_spot),\n",
       " TipSpot(name=test_tipspot_5_6, location=(052.200, 014.300, -83.500), size_x=9.0, size_y=9.0, size_z=0, category=tip_spot),\n",
       " TipSpot(name=test_tipspot_5_7, location=(052.200, 005.300, -83.500), size_x=9.0, size_y=9.0, size_z=0, category=tip_spot),\n",
       " TipSpot(name=test_tipspot_6_0, location=(061.200, 068.300, -83.500), size_x=9.0, size_y=9.0, size_z=0, category=tip_spot),\n",
       " TipSpot(name=test_tipspot_6_1, location=(061.200, 059.300, -83.500), size_x=9.0, size_y=9.0, size_z=0, category=tip_spot),\n",
       " TipSpot(name=test_tipspot_6_2, location=(061.200, 050.300, -83.500), size_x=9.0, size_y=9.0, size_z=0, category=tip_spot),\n",
       " TipSpot(name=test_tipspot_6_3, location=(061.200, 041.300, -83.500), size_x=9.0, size_y=9.0, size_z=0, category=tip_spot),\n",
       " TipSpot(name=test_tipspot_6_4, location=(061.200, 032.300, -83.500), size_x=9.0, size_y=9.0, size_z=0, category=tip_spot),\n",
       " TipSpot(name=test_tipspot_6_5, location=(061.200, 023.300, -83.500), size_x=9.0, size_y=9.0, size_z=0, category=tip_spot),\n",
       " TipSpot(name=test_tipspot_6_6, location=(061.200, 014.300, -83.500), size_x=9.0, size_y=9.0, size_z=0, category=tip_spot),\n",
       " TipSpot(name=test_tipspot_6_7, location=(061.200, 005.300, -83.500), size_x=9.0, size_y=9.0, size_z=0, category=tip_spot),\n",
       " TipSpot(name=test_tipspot_7_0, location=(070.200, 068.300, -83.500), size_x=9.0, size_y=9.0, size_z=0, category=tip_spot),\n",
       " TipSpot(name=test_tipspot_7_1, location=(070.200, 059.300, -83.500), size_x=9.0, size_y=9.0, size_z=0, category=tip_spot),\n",
       " TipSpot(name=test_tipspot_7_2, location=(070.200, 050.300, -83.500), size_x=9.0, size_y=9.0, size_z=0, category=tip_spot),\n",
       " TipSpot(name=test_tipspot_7_3, location=(070.200, 041.300, -83.500), size_x=9.0, size_y=9.0, size_z=0, category=tip_spot),\n",
       " TipSpot(name=test_tipspot_7_4, location=(070.200, 032.300, -83.500), size_x=9.0, size_y=9.0, size_z=0, category=tip_spot),\n",
       " TipSpot(name=test_tipspot_7_5, location=(070.200, 023.300, -83.500), size_x=9.0, size_y=9.0, size_z=0, category=tip_spot),\n",
       " TipSpot(name=test_tipspot_7_6, location=(070.200, 014.300, -83.500), size_x=9.0, size_y=9.0, size_z=0, category=tip_spot),\n",
       " TipSpot(name=test_tipspot_7_7, location=(070.200, 005.300, -83.500), size_x=9.0, size_y=9.0, size_z=0, category=tip_spot),\n",
       " TipSpot(name=test_tipspot_8_0, location=(079.200, 068.300, -83.500), size_x=9.0, size_y=9.0, size_z=0, category=tip_spot),\n",
       " TipSpot(name=test_tipspot_8_1, location=(079.200, 059.300, -83.500), size_x=9.0, size_y=9.0, size_z=0, category=tip_spot),\n",
       " TipSpot(name=test_tipspot_8_2, location=(079.200, 050.300, -83.500), size_x=9.0, size_y=9.0, size_z=0, category=tip_spot),\n",
       " TipSpot(name=test_tipspot_8_3, location=(079.200, 041.300, -83.500), size_x=9.0, size_y=9.0, size_z=0, category=tip_spot),\n",
       " TipSpot(name=test_tipspot_8_4, location=(079.200, 032.300, -83.500), size_x=9.0, size_y=9.0, size_z=0, category=tip_spot),\n",
       " TipSpot(name=test_tipspot_8_5, location=(079.200, 023.300, -83.500), size_x=9.0, size_y=9.0, size_z=0, category=tip_spot),\n",
       " TipSpot(name=test_tipspot_8_6, location=(079.200, 014.300, -83.500), size_x=9.0, size_y=9.0, size_z=0, category=tip_spot),\n",
       " TipSpot(name=test_tipspot_8_7, location=(079.200, 005.300, -83.500), size_x=9.0, size_y=9.0, size_z=0, category=tip_spot),\n",
       " TipSpot(name=test_tipspot_9_0, location=(088.200, 068.300, -83.500), size_x=9.0, size_y=9.0, size_z=0, category=tip_spot),\n",
       " TipSpot(name=test_tipspot_9_1, location=(088.200, 059.300, -83.500), size_x=9.0, size_y=9.0, size_z=0, category=tip_spot),\n",
       " TipSpot(name=test_tipspot_9_2, location=(088.200, 050.300, -83.500), size_x=9.0, size_y=9.0, size_z=0, category=tip_spot),\n",
       " TipSpot(name=test_tipspot_9_3, location=(088.200, 041.300, -83.500), size_x=9.0, size_y=9.0, size_z=0, category=tip_spot),\n",
       " TipSpot(name=test_tipspot_9_4, location=(088.200, 032.300, -83.500), size_x=9.0, size_y=9.0, size_z=0, category=tip_spot),\n",
       " TipSpot(name=test_tipspot_9_5, location=(088.200, 023.300, -83.500), size_x=9.0, size_y=9.0, size_z=0, category=tip_spot),\n",
       " TipSpot(name=test_tipspot_9_6, location=(088.200, 014.300, -83.500), size_x=9.0, size_y=9.0, size_z=0, category=tip_spot),\n",
       " TipSpot(name=test_tipspot_9_7, location=(088.200, 005.300, -83.500), size_x=9.0, size_y=9.0, size_z=0, category=tip_spot),\n",
       " TipSpot(name=test_tipspot_10_0, location=(097.200, 068.300, -83.500), size_x=9.0, size_y=9.0, size_z=0, category=tip_spot),\n",
       " TipSpot(name=test_tipspot_10_1, location=(097.200, 059.300, -83.500), size_x=9.0, size_y=9.0, size_z=0, category=tip_spot),\n",
       " TipSpot(name=test_tipspot_10_2, location=(097.200, 050.300, -83.500), size_x=9.0, size_y=9.0, size_z=0, category=tip_spot),\n",
       " TipSpot(name=test_tipspot_10_3, location=(097.200, 041.300, -83.500), size_x=9.0, size_y=9.0, size_z=0, category=tip_spot),\n",
       " TipSpot(name=test_tipspot_10_4, location=(097.200, 032.300, -83.500), size_x=9.0, size_y=9.0, size_z=0, category=tip_spot),\n",
       " TipSpot(name=test_tipspot_10_5, location=(097.200, 023.300, -83.500), size_x=9.0, size_y=9.0, size_z=0, category=tip_spot),\n",
       " TipSpot(name=test_tipspot_10_6, location=(097.200, 014.300, -83.500), size_x=9.0, size_y=9.0, size_z=0, category=tip_spot),\n",
       " TipSpot(name=test_tipspot_10_7, location=(097.200, 005.300, -83.500), size_x=9.0, size_y=9.0, size_z=0, category=tip_spot),\n",
       " TipSpot(name=test_tipspot_11_0, location=(106.200, 068.300, -83.500), size_x=9.0, size_y=9.0, size_z=0, category=tip_spot),\n",
       " TipSpot(name=test_tipspot_11_1, location=(106.200, 059.300, -83.500), size_x=9.0, size_y=9.0, size_z=0, category=tip_spot),\n",
       " TipSpot(name=test_tipspot_11_2, location=(106.200, 050.300, -83.500), size_x=9.0, size_y=9.0, size_z=0, category=tip_spot),\n",
       " TipSpot(name=test_tipspot_11_3, location=(106.200, 041.300, -83.500), size_x=9.0, size_y=9.0, size_z=0, category=tip_spot),\n",
       " TipSpot(name=test_tipspot_11_4, location=(106.200, 032.300, -83.500), size_x=9.0, size_y=9.0, size_z=0, category=tip_spot),\n",
       " TipSpot(name=test_tipspot_11_5, location=(106.200, 023.300, -83.500), size_x=9.0, size_y=9.0, size_z=0, category=tip_spot),\n",
       " TipSpot(name=test_tipspot_11_6, location=(106.200, 014.300, -83.500), size_x=9.0, size_y=9.0, size_z=0, category=tip_spot),\n",
       " TipSpot(name=test_tipspot_11_7, location=(106.200, 005.300, -83.500), size_x=9.0, size_y=9.0, size_z=0, category=tip_spot)]"
      ]
     },
     "execution_count": 2,
     "metadata": {},
     "output_type": "execute_result"
    }
   ],
   "source": [
    "l = HT_L('test')\n",
    "l.children"
   ]
  },
  {
   "cell_type": "code",
   "execution_count": null,
   "metadata": {},
   "outputs": [],
   "source": [
    "[TipSpot(name=test_tipspot_0_0, location=(000.800, 011.700, -83.500), size_x=9.0, size_y=9.0, size_z=0, category=tip_spot),"
   ]
  },
  {
   "cell_type": "code",
   "execution_count": 4,
   "metadata": {},
   "outputs": [
    {
     "data": {
      "text/plain": [
       "[TipSpot(name=test_tipspot_0_0, location=(005.300, 007.200, -83.500), size_x=9.0, size_y=9.0, size_z=0, category=tip_spot),\n",
       " TipSpot(name=test_tipspot_0_1, location=(014.300, 007.200, -83.500), size_x=9.0, size_y=9.0, size_z=0, category=tip_spot),\n",
       " TipSpot(name=test_tipspot_0_2, location=(023.300, 007.200, -83.500), size_x=9.0, size_y=9.0, size_z=0, category=tip_spot),\n",
       " TipSpot(name=test_tipspot_0_3, location=(032.300, 007.200, -83.500), size_x=9.0, size_y=9.0, size_z=0, category=tip_spot),\n",
       " TipSpot(name=test_tipspot_0_4, location=(041.300, 007.200, -83.500), size_x=9.0, size_y=9.0, size_z=0, category=tip_spot),\n",
       " TipSpot(name=test_tipspot_0_5, location=(050.300, 007.200, -83.500), size_x=9.0, size_y=9.0, size_z=0, category=tip_spot),\n",
       " TipSpot(name=test_tipspot_0_6, location=(059.300, 007.200, -83.500), size_x=9.0, size_y=9.0, size_z=0, category=tip_spot),\n",
       " TipSpot(name=test_tipspot_0_7, location=(068.300, 007.200, -83.500), size_x=9.0, size_y=9.0, size_z=0, category=tip_spot),\n",
       " TipSpot(name=test_tipspot_1_0, location=(005.300, 016.200, -83.500), size_x=9.0, size_y=9.0, size_z=0, category=tip_spot),\n",
       " TipSpot(name=test_tipspot_1_1, location=(014.300, 016.200, -83.500), size_x=9.0, size_y=9.0, size_z=0, category=tip_spot),\n",
       " TipSpot(name=test_tipspot_1_2, location=(023.300, 016.200, -83.500), size_x=9.0, size_y=9.0, size_z=0, category=tip_spot),\n",
       " TipSpot(name=test_tipspot_1_3, location=(032.300, 016.200, -83.500), size_x=9.0, size_y=9.0, size_z=0, category=tip_spot),\n",
       " TipSpot(name=test_tipspot_1_4, location=(041.300, 016.200, -83.500), size_x=9.0, size_y=9.0, size_z=0, category=tip_spot),\n",
       " TipSpot(name=test_tipspot_1_5, location=(050.300, 016.200, -83.500), size_x=9.0, size_y=9.0, size_z=0, category=tip_spot),\n",
       " TipSpot(name=test_tipspot_1_6, location=(059.300, 016.200, -83.500), size_x=9.0, size_y=9.0, size_z=0, category=tip_spot),\n",
       " TipSpot(name=test_tipspot_1_7, location=(068.300, 016.200, -83.500), size_x=9.0, size_y=9.0, size_z=0, category=tip_spot),\n",
       " TipSpot(name=test_tipspot_2_0, location=(005.300, 025.200, -83.500), size_x=9.0, size_y=9.0, size_z=0, category=tip_spot),\n",
       " TipSpot(name=test_tipspot_2_1, location=(014.300, 025.200, -83.500), size_x=9.0, size_y=9.0, size_z=0, category=tip_spot),\n",
       " TipSpot(name=test_tipspot_2_2, location=(023.300, 025.200, -83.500), size_x=9.0, size_y=9.0, size_z=0, category=tip_spot),\n",
       " TipSpot(name=test_tipspot_2_3, location=(032.300, 025.200, -83.500), size_x=9.0, size_y=9.0, size_z=0, category=tip_spot),\n",
       " TipSpot(name=test_tipspot_2_4, location=(041.300, 025.200, -83.500), size_x=9.0, size_y=9.0, size_z=0, category=tip_spot),\n",
       " TipSpot(name=test_tipspot_2_5, location=(050.300, 025.200, -83.500), size_x=9.0, size_y=9.0, size_z=0, category=tip_spot),\n",
       " TipSpot(name=test_tipspot_2_6, location=(059.300, 025.200, -83.500), size_x=9.0, size_y=9.0, size_z=0, category=tip_spot),\n",
       " TipSpot(name=test_tipspot_2_7, location=(068.300, 025.200, -83.500), size_x=9.0, size_y=9.0, size_z=0, category=tip_spot),\n",
       " TipSpot(name=test_tipspot_3_0, location=(005.300, 034.200, -83.500), size_x=9.0, size_y=9.0, size_z=0, category=tip_spot),\n",
       " TipSpot(name=test_tipspot_3_1, location=(014.300, 034.200, -83.500), size_x=9.0, size_y=9.0, size_z=0, category=tip_spot),\n",
       " TipSpot(name=test_tipspot_3_2, location=(023.300, 034.200, -83.500), size_x=9.0, size_y=9.0, size_z=0, category=tip_spot),\n",
       " TipSpot(name=test_tipspot_3_3, location=(032.300, 034.200, -83.500), size_x=9.0, size_y=9.0, size_z=0, category=tip_spot),\n",
       " TipSpot(name=test_tipspot_3_4, location=(041.300, 034.200, -83.500), size_x=9.0, size_y=9.0, size_z=0, category=tip_spot),\n",
       " TipSpot(name=test_tipspot_3_5, location=(050.300, 034.200, -83.500), size_x=9.0, size_y=9.0, size_z=0, category=tip_spot),\n",
       " TipSpot(name=test_tipspot_3_6, location=(059.300, 034.200, -83.500), size_x=9.0, size_y=9.0, size_z=0, category=tip_spot),\n",
       " TipSpot(name=test_tipspot_3_7, location=(068.300, 034.200, -83.500), size_x=9.0, size_y=9.0, size_z=0, category=tip_spot),\n",
       " TipSpot(name=test_tipspot_4_0, location=(005.300, 043.200, -83.500), size_x=9.0, size_y=9.0, size_z=0, category=tip_spot),\n",
       " TipSpot(name=test_tipspot_4_1, location=(014.300, 043.200, -83.500), size_x=9.0, size_y=9.0, size_z=0, category=tip_spot),\n",
       " TipSpot(name=test_tipspot_4_2, location=(023.300, 043.200, -83.500), size_x=9.0, size_y=9.0, size_z=0, category=tip_spot),\n",
       " TipSpot(name=test_tipspot_4_3, location=(032.300, 043.200, -83.500), size_x=9.0, size_y=9.0, size_z=0, category=tip_spot),\n",
       " TipSpot(name=test_tipspot_4_4, location=(041.300, 043.200, -83.500), size_x=9.0, size_y=9.0, size_z=0, category=tip_spot),\n",
       " TipSpot(name=test_tipspot_4_5, location=(050.300, 043.200, -83.500), size_x=9.0, size_y=9.0, size_z=0, category=tip_spot),\n",
       " TipSpot(name=test_tipspot_4_6, location=(059.300, 043.200, -83.500), size_x=9.0, size_y=9.0, size_z=0, category=tip_spot),\n",
       " TipSpot(name=test_tipspot_4_7, location=(068.300, 043.200, -83.500), size_x=9.0, size_y=9.0, size_z=0, category=tip_spot),\n",
       " TipSpot(name=test_tipspot_5_0, location=(005.300, 052.200, -83.500), size_x=9.0, size_y=9.0, size_z=0, category=tip_spot),\n",
       " TipSpot(name=test_tipspot_5_1, location=(014.300, 052.200, -83.500), size_x=9.0, size_y=9.0, size_z=0, category=tip_spot),\n",
       " TipSpot(name=test_tipspot_5_2, location=(023.300, 052.200, -83.500), size_x=9.0, size_y=9.0, size_z=0, category=tip_spot),\n",
       " TipSpot(name=test_tipspot_5_3, location=(032.300, 052.200, -83.500), size_x=9.0, size_y=9.0, size_z=0, category=tip_spot),\n",
       " TipSpot(name=test_tipspot_5_4, location=(041.300, 052.200, -83.500), size_x=9.0, size_y=9.0, size_z=0, category=tip_spot),\n",
       " TipSpot(name=test_tipspot_5_5, location=(050.300, 052.200, -83.500), size_x=9.0, size_y=9.0, size_z=0, category=tip_spot),\n",
       " TipSpot(name=test_tipspot_5_6, location=(059.300, 052.200, -83.500), size_x=9.0, size_y=9.0, size_z=0, category=tip_spot),\n",
       " TipSpot(name=test_tipspot_5_7, location=(068.300, 052.200, -83.500), size_x=9.0, size_y=9.0, size_z=0, category=tip_spot),\n",
       " TipSpot(name=test_tipspot_6_0, location=(005.300, 061.200, -83.500), size_x=9.0, size_y=9.0, size_z=0, category=tip_spot),\n",
       " TipSpot(name=test_tipspot_6_1, location=(014.300, 061.200, -83.500), size_x=9.0, size_y=9.0, size_z=0, category=tip_spot),\n",
       " TipSpot(name=test_tipspot_6_2, location=(023.300, 061.200, -83.500), size_x=9.0, size_y=9.0, size_z=0, category=tip_spot),\n",
       " TipSpot(name=test_tipspot_6_3, location=(032.300, 061.200, -83.500), size_x=9.0, size_y=9.0, size_z=0, category=tip_spot),\n",
       " TipSpot(name=test_tipspot_6_4, location=(041.300, 061.200, -83.500), size_x=9.0, size_y=9.0, size_z=0, category=tip_spot),\n",
       " TipSpot(name=test_tipspot_6_5, location=(050.300, 061.200, -83.500), size_x=9.0, size_y=9.0, size_z=0, category=tip_spot),\n",
       " TipSpot(name=test_tipspot_6_6, location=(059.300, 061.200, -83.500), size_x=9.0, size_y=9.0, size_z=0, category=tip_spot),\n",
       " TipSpot(name=test_tipspot_6_7, location=(068.300, 061.200, -83.500), size_x=9.0, size_y=9.0, size_z=0, category=tip_spot),\n",
       " TipSpot(name=test_tipspot_7_0, location=(005.300, 070.200, -83.500), size_x=9.0, size_y=9.0, size_z=0, category=tip_spot),\n",
       " TipSpot(name=test_tipspot_7_1, location=(014.300, 070.200, -83.500), size_x=9.0, size_y=9.0, size_z=0, category=tip_spot),\n",
       " TipSpot(name=test_tipspot_7_2, location=(023.300, 070.200, -83.500), size_x=9.0, size_y=9.0, size_z=0, category=tip_spot),\n",
       " TipSpot(name=test_tipspot_7_3, location=(032.300, 070.200, -83.500), size_x=9.0, size_y=9.0, size_z=0, category=tip_spot),\n",
       " TipSpot(name=test_tipspot_7_4, location=(041.300, 070.200, -83.500), size_x=9.0, size_y=9.0, size_z=0, category=tip_spot),\n",
       " TipSpot(name=test_tipspot_7_5, location=(050.300, 070.200, -83.500), size_x=9.0, size_y=9.0, size_z=0, category=tip_spot),\n",
       " TipSpot(name=test_tipspot_7_6, location=(059.300, 070.200, -83.500), size_x=9.0, size_y=9.0, size_z=0, category=tip_spot),\n",
       " TipSpot(name=test_tipspot_7_7, location=(068.300, 070.200, -83.500), size_x=9.0, size_y=9.0, size_z=0, category=tip_spot),\n",
       " TipSpot(name=test_tipspot_8_0, location=(005.300, 079.200, -83.500), size_x=9.0, size_y=9.0, size_z=0, category=tip_spot),\n",
       " TipSpot(name=test_tipspot_8_1, location=(014.300, 079.200, -83.500), size_x=9.0, size_y=9.0, size_z=0, category=tip_spot),\n",
       " TipSpot(name=test_tipspot_8_2, location=(023.300, 079.200, -83.500), size_x=9.0, size_y=9.0, size_z=0, category=tip_spot),\n",
       " TipSpot(name=test_tipspot_8_3, location=(032.300, 079.200, -83.500), size_x=9.0, size_y=9.0, size_z=0, category=tip_spot),\n",
       " TipSpot(name=test_tipspot_8_4, location=(041.300, 079.200, -83.500), size_x=9.0, size_y=9.0, size_z=0, category=tip_spot),\n",
       " TipSpot(name=test_tipspot_8_5, location=(050.300, 079.200, -83.500), size_x=9.0, size_y=9.0, size_z=0, category=tip_spot),\n",
       " TipSpot(name=test_tipspot_8_6, location=(059.300, 079.200, -83.500), size_x=9.0, size_y=9.0, size_z=0, category=tip_spot),\n",
       " TipSpot(name=test_tipspot_8_7, location=(068.300, 079.200, -83.500), size_x=9.0, size_y=9.0, size_z=0, category=tip_spot),\n",
       " TipSpot(name=test_tipspot_9_0, location=(005.300, 088.200, -83.500), size_x=9.0, size_y=9.0, size_z=0, category=tip_spot),\n",
       " TipSpot(name=test_tipspot_9_1, location=(014.300, 088.200, -83.500), size_x=9.0, size_y=9.0, size_z=0, category=tip_spot),\n",
       " TipSpot(name=test_tipspot_9_2, location=(023.300, 088.200, -83.500), size_x=9.0, size_y=9.0, size_z=0, category=tip_spot),\n",
       " TipSpot(name=test_tipspot_9_3, location=(032.300, 088.200, -83.500), size_x=9.0, size_y=9.0, size_z=0, category=tip_spot),\n",
       " TipSpot(name=test_tipspot_9_4, location=(041.300, 088.200, -83.500), size_x=9.0, size_y=9.0, size_z=0, category=tip_spot),\n",
       " TipSpot(name=test_tipspot_9_5, location=(050.300, 088.200, -83.500), size_x=9.0, size_y=9.0, size_z=0, category=tip_spot),\n",
       " TipSpot(name=test_tipspot_9_6, location=(059.300, 088.200, -83.500), size_x=9.0, size_y=9.0, size_z=0, category=tip_spot),\n",
       " TipSpot(name=test_tipspot_9_7, location=(068.300, 088.200, -83.500), size_x=9.0, size_y=9.0, size_z=0, category=tip_spot),\n",
       " TipSpot(name=test_tipspot_10_0, location=(005.300, 097.200, -83.500), size_x=9.0, size_y=9.0, size_z=0, category=tip_spot),\n",
       " TipSpot(name=test_tipspot_10_1, location=(014.300, 097.200, -83.500), size_x=9.0, size_y=9.0, size_z=0, category=tip_spot),\n",
       " TipSpot(name=test_tipspot_10_2, location=(023.300, 097.200, -83.500), size_x=9.0, size_y=9.0, size_z=0, category=tip_spot),\n",
       " TipSpot(name=test_tipspot_10_3, location=(032.300, 097.200, -83.500), size_x=9.0, size_y=9.0, size_z=0, category=tip_spot),\n",
       " TipSpot(name=test_tipspot_10_4, location=(041.300, 097.200, -83.500), size_x=9.0, size_y=9.0, size_z=0, category=tip_spot),\n",
       " TipSpot(name=test_tipspot_10_5, location=(050.300, 097.200, -83.500), size_x=9.0, size_y=9.0, size_z=0, category=tip_spot),\n",
       " TipSpot(name=test_tipspot_10_6, location=(059.300, 097.200, -83.500), size_x=9.0, size_y=9.0, size_z=0, category=tip_spot),\n",
       " TipSpot(name=test_tipspot_10_7, location=(068.300, 097.200, -83.500), size_x=9.0, size_y=9.0, size_z=0, category=tip_spot),\n",
       " TipSpot(name=test_tipspot_11_0, location=(005.300, 106.200, -83.500), size_x=9.0, size_y=9.0, size_z=0, category=tip_spot),\n",
       " TipSpot(name=test_tipspot_11_1, location=(014.300, 106.200, -83.500), size_x=9.0, size_y=9.0, size_z=0, category=tip_spot),\n",
       " TipSpot(name=test_tipspot_11_2, location=(023.300, 106.200, -83.500), size_x=9.0, size_y=9.0, size_z=0, category=tip_spot),\n",
       " TipSpot(name=test_tipspot_11_3, location=(032.300, 106.200, -83.500), size_x=9.0, size_y=9.0, size_z=0, category=tip_spot),\n",
       " TipSpot(name=test_tipspot_11_4, location=(041.300, 106.200, -83.500), size_x=9.0, size_y=9.0, size_z=0, category=tip_spot),\n",
       " TipSpot(name=test_tipspot_11_5, location=(050.300, 106.200, -83.500), size_x=9.0, size_y=9.0, size_z=0, category=tip_spot),\n",
       " TipSpot(name=test_tipspot_11_6, location=(059.300, 106.200, -83.500), size_x=9.0, size_y=9.0, size_z=0, category=tip_spot),\n",
       " TipSpot(name=test_tipspot_11_7, location=(068.300, 106.200, -83.500), size_x=9.0, size_y=9.0, size_z=0, category=tip_spot)]"
      ]
     },
     "execution_count": 4,
     "metadata": {},
     "output_type": "execute_result"
    }
   ],
   "source": [
    "n = HT_P(\"test\")\n",
    "n.children"
   ]
  },
  {
   "cell_type": "code",
   "execution_count": 27,
   "metadata": {},
   "outputs": [
    {
     "data": {
      "text/plain": [
       "[TipSpot(name=test_tipspot_0_0, location=(000.800, 011.700, -83.500), size_x=9.0, size_y=9.0, size_z=0, category=tip_spot)]"
      ]
     },
     "execution_count": 27,
     "metadata": {},
     "output_type": "execute_result"
    }
   ],
   "source": [
    "n[0]"
   ]
  },
  {
   "cell_type": "code",
   "execution_count": null,
   "metadata": {},
   "outputs": [],
   "source": []
  },
  {
   "cell_type": "code",
   "execution_count": 8,
   "metadata": {},
   "outputs": [],
   "source": [
    "from pylabrobot.liquid_handling.resources import create_equally_spaced, TipSpot, TipRack\n",
    "from pylabrobot.liquid_handling.resources.ml_star.tip_types import high_volume_tip_no_filter"
   ]
  },
  {
   "cell_type": "code",
   "execution_count": 9,
   "metadata": {},
   "outputs": [],
   "source": [
    "def oldHT_P(name: str, with_tips: bool = True) -> TipRack:\n",
    "  return TipRack(\n",
    "    name=name,\n",
    "    size_x=82.6,\n",
    "    size_y=122.4,\n",
    "    size_z=20.0,\n",
    "    tip_type=high_volume_tip_no_filter,\n",
    "    items=create_equally_spaced(TipSpot,\n",
    "      num_items_x=8,\n",
    "      num_items_y=12,\n",
    "      dx=9.8,\n",
    "      dy=11.7,\n",
    "      dz=-83.5,\n",
    "      item_size_x=9.0,\n",
    "      item_size_y=9.0,\n",
    "    ),\n",
    "    with_tips=with_tips\n",
    "  )"
   ]
  },
  {
   "cell_type": "code",
   "execution_count": 11,
   "metadata": {},
   "outputs": [
    {
     "data": {
      "text/plain": [
       "Coordinate(9.8, 110.7, -83.5)"
      ]
     },
     "execution_count": 11,
     "metadata": {},
     "output_type": "execute_result"
    }
   ],
   "source": [
    "o = oldHT_P(\"test\")\n",
    "o.get_item(\"A1\").location"
   ]
  },
  {
   "cell_type": "code",
   "execution_count": 23,
   "metadata": {},
   "outputs": [
    {
     "data": {
      "text/plain": [
       "TipSpot(name=test_tipspot_0_11, location=(009.800, 011.700, -83.500), size_x=9.0, size_y=9.0, size_z=0, category=tip_spot)"
      ]
     },
     "execution_count": 23,
     "metadata": {},
     "output_type": "execute_result"
    }
   ],
   "source": [
    "o.children[11]"
   ]
  },
  {
   "cell_type": "code",
   "execution_count": 31,
   "metadata": {},
   "outputs": [],
   "source": [
    "def oldbutfixedHT_P(name: str, with_tips: bool = True) -> TipRack:\n",
    "  return TipRack(\n",
    "    name=name,\n",
    "    size_x=82.6,\n",
    "    size_y=122.4,\n",
    "    size_z=20.0,\n",
    "    tip_type=high_volume_tip_no_filter,\n",
    "    items=create_equally_spaced(TipSpot,\n",
    "      num_items_x=8,\n",
    "      num_items_y=12,\n",
    "      dx=9.8 - 4.5,\n",
    "      dy=11.7 - 4.5,\n",
    "      dz=-83.5,\n",
    "      item_size_x=9.0,\n",
    "      item_size_y=9.0,\n",
    "    ),\n",
    "    with_tips=with_tips\n",
    "  ).rotated(90)"
   ]
  },
  {
   "cell_type": "code",
   "execution_count": 37,
   "metadata": {},
   "outputs": [
    {
     "data": {
      "text/plain": [
       "Coordinate(11.7, 9.8, -83.5)"
      ]
     },
     "execution_count": 37,
     "metadata": {},
     "output_type": "execute_result"
    }
   ],
   "source": [
    "f = oldbutfixedHT_P(\"test\")\n",
    "f.children[0].location + Coordinate(4.5, 4.5, 0)"
   ]
  },
  {
   "cell_type": "code",
   "execution_count": null,
   "metadata": {},
   "outputs": [],
   "source": []
  }
 ],
 "metadata": {
  "kernelspec": {
   "display_name": "Python 3.10.8 ('env': venv)",
   "language": "python",
   "name": "python3"
  },
  "language_info": {
   "codemirror_mode": {
    "name": "ipython",
    "version": 3
   },
   "file_extension": ".py",
   "mimetype": "text/x-python",
   "name": "python",
   "nbconvert_exporter": "python",
   "pygments_lexer": "ipython3",
   "version": "3.10.8"
  },
  "orig_nbformat": 4,
  "vscode": {
   "interpreter": {
    "hash": "bf274dfc1b974177267b6b8fba8543eeb0bb4c5d64c637dde420829b05625268"
   }
  }
 },
 "nbformat": 4,
 "nbformat_minor": 2
}
