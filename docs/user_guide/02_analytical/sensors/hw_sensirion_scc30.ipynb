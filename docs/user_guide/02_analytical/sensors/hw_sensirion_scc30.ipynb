{
 "cells": [
  {
   "cell_type": "markdown",
   "id": "866f6f49",
   "metadata": {},
   "source": [
    "# Hello World, \"Sensirion SCC30\"!\n",
    "\n",
    "The Sensirion SCC30 sensor module is a `TemperatureHumiditySensor` machine that enables:\n",
    "- measurements of temperature, and\n",
    "- measurements of humidity."
   ]
  },
  {
   "cell_type": "markdown",
   "id": "1e836e11-90eb-4c4a-888e-1f7d0ac54798",
   "metadata": {},
   "source": [
    "---\n",
    "## Setup Instructions (Physical)"
   ]
  },
  {
   "cell_type": "markdown",
   "id": "d2087a07",
   "metadata": {},
   "source": [
    "Using the Sensirion SCC30 sensor module requires two components:\n",
    "- SCC30 cat. no.: [SEK-SCC30-DB-Sensor](https://sensirion.com/products/catalog/SCC30-DB)\n",
    "- SensorBridge cat. no.:  [SEK-SensorBridge](https://sensirion.com/products/catalog/SEK-SensorBridge)"
   ]
  },
  {
   "cell_type": "markdown",
   "id": "eb905396-ef6d-4f45-b0f0-933e6b689418",
   "metadata": {},
   "source": [
    "---\n",
    "## Setup Instructions (Programmatic)\n",
    "\n",
    "TODO: Installation instructions"
   ]
  },
  {
   "cell_type": "code",
   "execution_count": 1,
   "id": "12fa20e6-5708-4581-93e2-f342cf74c062",
   "metadata": {},
   "outputs": [],
   "source": [
    "interface_choice = \"star_control\" # hs_box_control VS star_control"
   ]
  },
  {
   "cell_type": "code",
   "execution_count": null,
   "id": "000202e0",
   "metadata": {},
   "outputs": [
    {
     "name": "stderr",
     "output_type": "stream",
     "text": [
      "C:\\Users\\cmoschner\\AppData\\Local\\Temp\\ipykernel_38756\\3338486173.py:15: DeprecationWarning: `STAR` is deprecated and will be removed in a future release. Please use `STARBackend` instead.\n",
      "  control_interface = star_backend = STAR()\n"
     ]
    }
   ],
   "source": [
    "from pylabrobot.sensors.sensor import Sensor\n",
    "from pylabrobot.sensors.backends.sensirion_scc30_backend import SensirionSCC30Backend\n",
    "\n",
    "# Create the backend instance\n",
    "backend = SensirionSCC30Backend(port=\"COM4\")\n",
    "\n",
    "# Wrap it in a Sensor resource\n",
    "sensirion_scc30_sensor = Sensor(\n",
    "  name=\"sensirion_scc30_sensor\",\n",
    "  backend=backend,\n",
    "  size_x=13.8,\n",
    "  size_y=25.6,\n",
    "  size_z=7.4,\n",
    "  category=\"humidity_temperature_sensor\",\n",
    "  model=\"sensirion_scc30_sensor\"\n",
    ")"
   ]
  },
  {
   "cell_type": "code",
   "execution_count": null,
   "id": "c6d38f82",
   "metadata": {},
   "outputs": [],
   "source": [
    "# Initialize the sensor\n",
    "await sensirion_scc30_sensor.setup()"
   ]
  },
  {
   "cell_type": "markdown",
   "id": "599b7d31-27b1-44f9-a720-cd2ef55e122f",
   "metadata": {},
   "source": [
    "---\n",
    "## Usage"
   ]
  },
  {
   "cell_type": "markdown",
   "id": "5e201ecb",
   "metadata": {},
   "source": [
    "### Temperature Measurements"
   ]
  },
  {
   "cell_type": "code",
   "execution_count": null,
   "id": "2f544e4a",
   "metadata": {},
   "outputs": [
    {
     "data": {
      "text/plain": [
       "25.6"
      ]
     },
     "execution_count": 7,
     "metadata": {},
     "output_type": "execute_result"
    }
   ],
   "source": [
    "# Read values from backend directly\n",
    "temp = await sensirion_scc30_sensor.backend.get_temperature()"
   ]
  },
  {
   "cell_type": "markdown",
   "id": "d1b72d26",
   "metadata": {},
   "source": [
    "### Humidity Measurements"
   ]
  },
  {
   "cell_type": "code",
   "execution_count": null,
   "id": "17646f3d",
   "metadata": {},
   "outputs": [],
   "source": [
    "hum = await sensirion_scc30_sensor.backend.get_humidity()"
   ]
  },
  {
   "cell_type": "markdown",
   "id": "c9176b41-c939-45f0-aa6a-a5599188f38c",
   "metadata": {},
   "source": [
    "### Closing Connection to Machine"
   ]
  },
  {
   "cell_type": "code",
   "execution_count": null,
   "id": "94577ff3-7add-4f3c-815c-c0301ca58adf",
   "metadata": {},
   "outputs": [],
   "source": [
    "await sensirion_scc30_sensor.stop()"
   ]
  }
 ],
 "metadata": {
  "kernelspec": {
   "display_name": "Python 3 (ipykernel)",
   "language": "python",
   "name": "python3"
  },
  "language_info": {
   "codemirror_mode": {
    "name": "ipython",
    "version": 3
   },
   "file_extension": ".py",
   "mimetype": "text/x-python",
   "name": "python",
   "nbconvert_exporter": "python",
   "pygments_lexer": "ipython3",
   "version": "3.11.7"
  }
 },
 "nbformat": 4,
 "nbformat_minor": 5
}
