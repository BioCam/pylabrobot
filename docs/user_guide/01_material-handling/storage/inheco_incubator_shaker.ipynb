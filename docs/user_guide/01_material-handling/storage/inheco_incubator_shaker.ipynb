{
 "cells": [
  {
   "cell_type": "markdown",
   "id": "01bd78dc-183e-45fe-a3b0-59c8666b4f14",
   "metadata": {},
   "source": [
    "# Hello World, Inheco Incubator (Shaker)\n",
    "\n",
    "This notebook provides a minimal working example to connect to and interact with an INHECO Incubator Shaker over a USB serial connection. It demonstrates how to initialize communication, issue basic commands, and interpret the device’s responses.\n",
    "\n",
    "## About the Device and Setup\n",
    "\n",
    "INHECO incubator shakers are modular devices used for temperature control and agitation in lab automation setups. Multiple devices can be connected in a stack via USB, each assigned a **device ID** and **subdevice number** (usually 0–5). Commands are sent via a serial protocol and must be carefully constructed with CRC checks and timeouts.\n",
    "\n",
    "Ensure:\n",
    "- The correct **serial port** is selected (e.g., `/dev/cu.usbserial-140` on macOS).\n",
    "- You know the **device ID** for the incubator you're communicating with.\n",
    "- Only one command is sent at a time — the device cannot queue or process multiple requests concurrently.\n",
    "\n",
    "## Command Types\n",
    "\n",
    "There are three classes of commands:\n",
    "\n",
    "**Report Commands**\n",
    "\n",
    "Used to **query** the device’s state or configuration. These include:\n",
    "- `RFV0`: Read firmware version  \n",
    "- `RFV2`: Read serial number  \n",
    "- `RATx`: Read actual temperature (for subdevice `x`)\n",
    "\n",
    "They return a string payload enclosed between header and terminator bytes.\n",
    "\n",
    "**Set Commands**\n",
    "\n",
    "Used to **configure** parameters or states. For example:\n",
    "- `SCT020`: Set control temperature to 20°C  \n",
    "- `SST1`: Set shaking speed to 1 Hz  \n",
    "\n",
    "A successful response consists only of an acknowledgement terminator (`0x20 0x60`).\n",
    "\n",
    "**Action Commands**\n",
    "\n",
    "Used to **trigger actions**. Examples include:\n",
    "- `AID`: Initialize device  \n",
    "- `AOD`: Open lid  \n",
    "- `ACD`: Close lid  \n",
    "\n",
    "These may respond more slowly (up to 5 seconds), especially when mechanical motion is involved.\n",
    "\n",
    "---\n",
    "\n",
    "The notebook will walk through:\n",
    "- Connecting to the device\n",
    "- Reading firmware and serial number\n",
    "- Opening and closing the lid\n",
    "- Reading temperatures from subdevices\n",
    "\n",
    "> 📌 This is an essential step for integrating INHECO hardware into larger lab automation workflows.\n"
   ]
  },
  {
   "cell_type": "code",
   "execution_count": null,
   "id": "c3d4238d-7f5f-46da-8aae-c411e422f6b3",
   "metadata": {},
   "outputs": [],
   "source": []
  },
  {
   "cell_type": "markdown",
   "id": "42739583-9f29-4063-983d-18dcdfea61ba",
   "metadata": {},
   "source": [
    "## Setup (Physical)"
   ]
  },
  {
   "cell_type": "code",
   "execution_count": null,
   "id": "17b34c97-1eed-41cf-8145-fa0c1aeec6f0",
   "metadata": {},
   "outputs": [],
   "source": []
  },
  {
   "cell_type": "code",
   "execution_count": null,
   "id": "417cb6a7-7833-4894-9f1a-1777c9b44f61",
   "metadata": {},
   "outputs": [],
   "source": []
  },
  {
   "cell_type": "code",
   "execution_count": null,
   "id": "c3cc8106-929c-4d6c-9886-eb34ca834baf",
   "metadata": {},
   "outputs": [],
   "source": []
  },
  {
   "cell_type": "code",
   "execution_count": 3,
   "id": "fbec6d2f-9238-4611-adb5-2b656a63b9cd",
   "metadata": {},
   "outputs": [],
   "source": [
    "import asyncio\n",
    "import serial\n",
    "import logging\n",
    "import time\n",
    "import threading\n",
    "from typing import Optional, List\n",
    "\n",
    "\n",
    "class InhecoTask:\n",
    "    def __init__(self, fut: asyncio.Future, cmd: str, timeout_time: float):\n",
    "        self.fut = fut\n",
    "        self.cmd = cmd\n",
    "        self.timeout_time = timeout_time\n",
    "\n",
    "\n",
    "class InhecoIncubatorShakerBackend:\n",
    "\n",
    "    def __init__(self, port: str, device_id: int = 2):\n",
    "        self.port = port\n",
    "        self.device_id = device_id\n",
    "        self.logger = logging.getLogger(__name__)\n",
    "        self.ser = None\n",
    "        self.write_timeout = 2.0\n",
    "        self.read_timeout = 5.0\n",
    "        self._waiting_tasks: List[InhecoTask] = []\n",
    "        self._reading_thread: Optional[threading.Thread] = None\n",
    "        self._reading_active = False\n",
    "        self._rx_buffer = bytearray()\n",
    "\n",
    "    async def setup(self):\n",
    "        self.ser = serial.Serial(\n",
    "            port=self.port,\n",
    "            baudrate=19200,\n",
    "            bytesize=serial.EIGHTBITS,\n",
    "            parity=serial.PARITY_NONE,\n",
    "            stopbits=serial.STOPBITS_ONE,\n",
    "            timeout=0\n",
    "        )\n",
    "        self.ser.write_timeout = self.write_timeout\n",
    "\n",
    "        fw_version = await self.read_firmware_version(subdevice=0)\n",
    "        print(\n",
    "            f\"Connected to INHECO Incubator on {self.port}\\n\"\n",
    "            f\"Inheco Incubator firmware version: {fw_version}\"\n",
    "        )\n",
    "        self.logger.info(\n",
    "            f\"Connected to INHECO Incubator on {self.port}\\n\"\n",
    "            f\"Inheco Incubator firmware version: {fw_version}\"\n",
    "        )\n",
    "        await self.initialize(subdevice=0)\n",
    "\n",
    "    async def stop(self):\n",
    "        if self.ser and self.ser.is_open:\n",
    "            self.ser.close()\n",
    "            self.logger.info(\"Disconnected from INHECO Incubator Shaker\")\n",
    "        self._reading_active = False\n",
    "        self._waiting_tasks.clear()\n",
    "\n",
    "    async def write(self, data: bytes):\n",
    "        self.logger.debug(f\"-> {data.hex()}\")\n",
    "        self.ser.write(data)\n",
    "\n",
    "    async def _read_response(self, timeout: Optional[float] = None) -> bytes:\n",
    "        timeout = timeout or self.read_timeout\n",
    "        fut: asyncio.Future = asyncio.get_event_loop().create_future()\n",
    "        self._start_reading(fut, timeout=timeout)\n",
    "        return await fut\n",
    "\n",
    "    def _start_reading(self, fut: asyncio.Future, timeout: float):\n",
    "        timeout_time = time.time() + timeout\n",
    "        self._waiting_tasks.append(InhecoTask(fut=fut, cmd=\"\", timeout_time=timeout_time))\n",
    "\n",
    "        if not self._reading_active:\n",
    "            self._reading_active = True\n",
    "            self._reading_thread = threading.Thread(target=self._reading_loop, daemon=True)\n",
    "            self._reading_thread.start()\n",
    "\n",
    "    def _reading_loop(self):\n",
    "        expected_header = 0xB0 + self.device_id\n",
    "        expected_tail = bytes([expected_header, 0x20, 0x60])\n",
    "\n",
    "        while self._waiting_tasks:\n",
    "            now = time.time()\n",
    "            for i in range(len(self._waiting_tasks) - 1, -1, -1):\n",
    "                task = self._waiting_tasks[i]\n",
    "                if now > task.timeout_time:\n",
    "                    task.fut.get_loop().call_soon_threadsafe(\n",
    "                        task.fut.set_exception,\n",
    "                        TimeoutError(\"Timed out waiting for response\")\n",
    "                    )\n",
    "                    del self._waiting_tasks[i]\n",
    "                    continue\n",
    "\n",
    "            if self.ser.in_waiting:\n",
    "                data = self.ser.read(self.ser.in_waiting)\n",
    "                if data:\n",
    "                    self._rx_buffer.extend(data)\n",
    "                    self.logger.debug(f\"<- {data.hex()} (buffer={self._rx_buffer.hex()})\")\n",
    "\n",
    "                    # Check if full response received\n",
    "                    if expected_tail in self._rx_buffer:\n",
    "                        end = self._rx_buffer.index(expected_tail) + len(expected_tail)\n",
    "                        response = bytes(self._rx_buffer[:end])\n",
    "                        self._rx_buffer = self._rx_buffer[end:]\n",
    "\n",
    "                        for task in self._waiting_tasks:\n",
    "                            task.fut.get_loop().call_soon_threadsafe(\n",
    "                                task.fut.set_result, response\n",
    "                            )\n",
    "                        self._waiting_tasks.clear()\n",
    "\n",
    "            time.sleep(0.01)\n",
    "\n",
    "        self._reading_active = False\n",
    "\n",
    "    def _crc8(self, data: bytearray) -> int:\n",
    "        crc = 0xA1\n",
    "        for byte in data:\n",
    "            d = byte\n",
    "            for _ in range(8):\n",
    "                if ((d ^ crc) & 1):\n",
    "                    crc ^= 0x18\n",
    "                    crc >>= 1\n",
    "                    crc |= 0x80\n",
    "                else:\n",
    "                    crc >>= 1\n",
    "                d >>= 1\n",
    "        return crc & 0xFF\n",
    "\n",
    "    def _build_message(self, command: str, subdevice: int = 0) -> bytes:\n",
    "        if not (0 <= subdevice <= 5):\n",
    "            raise ValueError(\"Subdevice must be between 0 and 5\")\n",
    "        full_command = f\"T0{subdevice}{command}\"\n",
    "        cmd = full_command.encode(\"ascii\")\n",
    "        length = len(cmd) + 3\n",
    "        address = 0x30 + self.device_id\n",
    "        proto = 0xC0 + len(cmd)\n",
    "        message = bytearray([length, address, proto]) + cmd\n",
    "        crc = self._crc8(message)\n",
    "        return bytes(message + bytearray([crc]))\n",
    "\n",
    "    def _is_report_command(self, command: str) -> bool:\n",
    "        return command.upper().startswith(\"R\")\n",
    "\n",
    "    def _parse_response_bytes(self, response: bytes) -> str:\n",
    "        expected_header = 0xB0 + self.device_id\n",
    "        expected_tail = bytes([expected_header, 0x20, 0x60])\n",
    "\n",
    "        if not response.startswith(bytes([expected_header])):\n",
    "            raise ValueError(f\"Unexpected response header: {response[:1].hex()}\")\n",
    "\n",
    "        if not response.endswith(expected_tail):\n",
    "            raise ValueError(f\"Unexpected response terminator: {response[-3:].hex()}\")\n",
    "\n",
    "        # Strip leading header and trailing header+status+terminator\n",
    "        core = response[1:-3]\n",
    "\n",
    "        try:\n",
    "            return core.decode(\"ascii\").strip()\n",
    "        except UnicodeDecodeError:\n",
    "            cleaned = core.decode(\"ascii\", errors=\"ignore\").strip()\n",
    "            self.logger.warning(f\"Non-ASCII bytes stripped from payload: {core!r}\")\n",
    "            return cleaned\n",
    "\n",
    "    async def send_command(self, command: str, subdevice: int = 0, delay: float = 0.2,\n",
    "                           read_timeout: Optional[float] = None) -> str:\n",
    "        msg = self._build_message(command, subdevice=subdevice)\n",
    "        await self.write(msg)\n",
    "        await asyncio.sleep(delay)\n",
    "        response = await self._read_response(timeout=read_timeout)\n",
    "        if not response:\n",
    "            raise TimeoutError(f\"No response from device for command: {command}\")\n",
    "        try:\n",
    "            if self._is_report_command(command):\n",
    "                return self._parse_response_bytes(response)\n",
    "            else:\n",
    "                self._validate_acknowledgement(response)\n",
    "                return \"\"\n",
    "        except Exception as e:\n",
    "            self.logger.error(f\"Error parsing response to {command}: {e}\")\n",
    "            raise\n",
    "\n",
    "    def _validate_acknowledgement(self, response: bytes):\n",
    "        expected_header = 0xB0 + self.device_id\n",
    "        if not response.startswith(bytes([expected_header])):\n",
    "            raise ValueError(f\"Unexpected ack header: {response[:1].hex()}\")\n",
    "        if not response.endswith(bytes([expected_header, 0x20, 0x60])):\n",
    "            raise ValueError(f\"Unexpected ack terminator: {response[-3:].hex()}\")\n",
    "\n",
    "    # === Public API ===\n",
    "    async def read_firmware_version(self, subdevice: int = 0):\n",
    "        return await self.send_command(\"RFV0\", subdevice=subdevice)\n",
    "\n",
    "    async def read_serial_number(self, subdevice: int = 0):\n",
    "        return await self.send_command(\"RFV2\", subdevice=subdevice)\n",
    "\n",
    "    async def initialize(self, subdevice: int = 0):\n",
    "        return await self.send_command(\"AID\", subdevice=subdevice)\n",
    "\n",
    "    async def open_lid(self, subdevice: int = 0):\n",
    "        return await self.send_command(\"AOD\", subdevice=subdevice)\n",
    "\n",
    "    async def close_lid(self, subdevice: int = 0):\n",
    "        return await self.send_command(\"ACD\", subdevice=subdevice)\n"
   ]
  },
  {
   "cell_type": "markdown",
   "id": "d0d6256e-673a-4979-88cc-d07959ce92ea",
   "metadata": {},
   "source": [
    "## Setup (Programmatic)"
   ]
  },
  {
   "cell_type": "code",
   "execution_count": 4,
   "id": "edc48ca2-a84c-4ffc-b750-e9ff4db605f0",
   "metadata": {},
   "outputs": [
    {
     "name": "stdout",
     "output_type": "stream",
     "text": [
      "Connected to INHECO Incubator on /dev/cu.usbserial-1140\n",
      "Inheco Incubator firmware version: IncShak_C_V3.50_04/2012\n"
     ]
    }
   ],
   "source": [
    "incubator = InhecoIncubatorShakerBackend(\"/dev/cu.usbserial-1140\", device_id=2)\n",
    "await incubator.setup()"
   ]
  },
  {
   "cell_type": "code",
   "execution_count": 8,
   "id": "7f3a5b82-8fd1-4cda-859a-dc030b1af115",
   "metadata": {},
   "outputs": [
    {
     "data": {
      "text/plain": [
       "2"
      ]
     },
     "execution_count": 8,
     "metadata": {},
     "output_type": "execute_result"
    }
   ],
   "source": [
    "incubator.device_id"
   ]
  },
  {
   "cell_type": "markdown",
   "id": "e9c95159-484c-4a21-9cdb-43c4ee017bbe",
   "metadata": {},
   "source": [
    "## Usage\n",
    "\n",
    "### Testing & Investigation"
   ]
  },
  {
   "cell_type": "code",
   "execution_count": 4,
   "id": "6cb1d79b-bee9-463a-b1ec-8f688a04f72b",
   "metadata": {},
   "outputs": [
    {
     "data": {
      "text/plain": [
       "'IncShak_C_V3.50_04/2012'"
      ]
     },
     "execution_count": 4,
     "metadata": {},
     "output_type": "execute_result"
    }
   ],
   "source": [
    "await incubator.read_firmware_version(subdevice=0)"
   ]
  },
  {
   "cell_type": "code",
   "execution_count": 3,
   "id": "e02b4c34-6f8a-4ee4-a264-dbe4397f5fa5",
   "metadata": {},
   "outputs": [
    {
     "data": {
      "text/plain": [
       "'IncShak_C_V3.50_04/2012'"
      ]
     },
     "execution_count": 3,
     "metadata": {},
     "output_type": "execute_result"
    }
   ],
   "source": [
    "await incubator.read_firmware_version(subdevice=0)"
   ]
  },
  {
   "cell_type": "code",
   "execution_count": 5,
   "id": "65ca6226-0d73-410d-9e09-c05edb797b67",
   "metadata": {},
   "outputs": [
    {
     "data": {
      "text/plain": [
       "'2'"
      ]
     },
     "execution_count": 5,
     "metadata": {},
     "output_type": "execute_result"
    }
   ],
   "source": [
    "await incubator.send_command(\"REE\")\n",
    "\n",
    "# Reports the status of the initialisation of the device and the status of the Lab-Ware detection\n",
    "# if\n",
    "# 0 Device initialised\n",
    "# 1 Device not initialised\n",
    "# 2 Lab-Ware status unknown\n",
    "# 3 Device not initialised and Lab-Ware status unknow"
   ]
  },
  {
   "cell_type": "code",
   "execution_count": 6,
   "id": "77d3d7fe-b5a1-4550-b621-d1d8799b67c9",
   "metadata": {},
   "outputs": [
    {
     "data": {
      "text/plain": [
       "'2025-09-17,QS'"
      ]
     },
     "execution_count": 6,
     "metadata": {},
     "output_type": "execute_result"
    }
   ],
   "source": [
    "await incubator.send_command(\"RCM\")\n",
    "\n",
    "# Reports the date and an alphanumeric string (e.g. operator) of the last calibration for the device.\n",
    "# The Data is reported in the Format YYYY-MM-DD,xxxxx (Example: 2005-09-28,xxxxx).\n",
    "# The five xs are alphanumeric wildcards."
   ]
  },
  {
   "cell_type": "raw",
   "id": "e77a1c58-4e75-4984-9857-632661125be1",
   "metadata": {},
   "source": [
    "await incubator.send_command(\"AQS\", read_timeout=360)\n"
   ]
  },
  {
   "cell_type": "code",
   "execution_count": null,
   "id": "f5c75900-60c1-4efa-bd4f-483496f8f354",
   "metadata": {},
   "outputs": [],
   "source": []
  },
  {
   "cell_type": "markdown",
   "id": "a30de061-fc3f-434c-882e-4972c8404479",
   "metadata": {},
   "source": [
    "### Loading Drawer"
   ]
  },
  {
   "cell_type": "code",
   "execution_count": 7,
   "id": "e6009273-a626-4de9-a9db-0f0de8021a0e",
   "metadata": {},
   "outputs": [
    {
     "data": {
      "text/plain": [
       "''"
      ]
     },
     "execution_count": 7,
     "metadata": {},
     "output_type": "execute_result"
    }
   ],
   "source": [
    "await incubator.open_lid()\n",
    "# await asyncio.sleep(5)\n",
    "await incubator.close_lid()"
   ]
  },
  {
   "cell_type": "code",
   "execution_count": null,
   "id": "71514b7a-2d7a-469a-8ff1-1c2abc4e30df",
   "metadata": {},
   "outputs": [],
   "source": []
  },
  {
   "cell_type": "markdown",
   "id": "6aaef05a-2cb9-4b12-bf86-ae6d63665036",
   "metadata": {},
   "source": [
    "### Temperature Control"
   ]
  },
  {
   "cell_type": "code",
   "execution_count": 8,
   "id": "29a021ca-70b6-4a66-bd6d-570d99df7902",
   "metadata": {},
   "outputs": [
    {
     "name": "stdout",
     "output_type": "stream",
     "text": [
      "0 {1: '172', 2: '173', 3: '173'}\n",
      "1 {1: '172', 2: '173', 3: '173'}\n",
      "2 {1: '172', 2: '173', 3: '173'}\n",
      "3 {1: '173', 2: '173', 3: '173'}\n",
      "4 {1: '172', 2: '173', 3: '173'}\n"
     ]
    }
   ],
   "source": [
    "for t in range(5):\n",
    "    temp_meas = {}\n",
    "    \n",
    "    for x in range(1,4):\n",
    "        temp_meas[x] = await incubator.send_command(f\"RAT{x}\", read_timeout=60)\n",
    "\n",
    "    print(t, temp_meas)\n",
    "    time.sleep(1)\n",
    "\n",
    "# This command reports the actual ambient or slot temperatures of the three sensors.\n",
    "# It can be chosen whether the evaluated temperature or the sensor value should be reported.\n",
    "# The temperatures are reported in 1/10 °C: 345 = 34,5 °C"
   ]
  },
  {
   "cell_type": "code",
   "execution_count": null,
   "id": "0acc085c-3454-4ecd-96a5-78b0ec6ff808",
   "metadata": {},
   "outputs": [],
   "source": [
    "await incubator.send_command(\"RTT\", read_timeout=60)\n"
   ]
  },
  {
   "cell_type": "code",
   "execution_count": null,
   "id": "5822eab3-d2c5-4266-8031-7abec1ff96a3",
   "metadata": {},
   "outputs": [],
   "source": [
    "await incubator.send_command(\"STT700\", read_timeout=60)\n"
   ]
  },
  {
   "cell_type": "code",
   "execution_count": null,
   "id": "b0408abc-cefd-40c6-994f-13ec9989c626",
   "metadata": {},
   "outputs": [],
   "source": []
  },
  {
   "cell_type": "markdown",
   "id": "58c0aa31-9b6b-426f-a038-cdb80614c005",
   "metadata": {},
   "source": [
    "### Shaking Control\n",
    "\n",
    "TODO"
   ]
  },
  {
   "cell_type": "code",
   "execution_count": null,
   "id": "a0dfa8c5-5815-439c-b4ca-1607c2e99844",
   "metadata": {},
   "outputs": [],
   "source": []
  },
  {
   "cell_type": "code",
   "execution_count": null,
   "id": "2ea08f9b-bbc4-47d2-be23-da541ebf65cf",
   "metadata": {},
   "outputs": [],
   "source": [
    "import serial.tools.list_ports\n",
    "\n",
    "def list_serial_devices():\n",
    "    ports = serial.tools.list_ports.comports()\n",
    "    for port in ports:\n",
    "        print(f\"Device: {port.device}\")\n",
    "        print(f\"  Description: {port.description}\")\n",
    "        print(f\"  HWID: {port.hwid}\")\n",
    "        print(\"-\" * 40)\n",
    "\n",
    "if __name__ == \"__main__\":\n",
    "    print(\"Scanning USB serial devices...\")\n",
    "    list_serial_devices()\n"
   ]
  },
  {
   "cell_type": "code",
   "execution_count": null,
   "id": "ed4f67a4-2970-4510-85c3-ea71b84adf03",
   "metadata": {},
   "outputs": [],
   "source": []
  },
  {
   "cell_type": "markdown",
   "id": "7f34eb41-cb4a-4fbb-8c7c-36400dead6c4",
   "metadata": {},
   "source": [
    "### Closing Connection"
   ]
  },
  {
   "cell_type": "code",
   "execution_count": 9,
   "id": "25fe64dc-d831-4755-bd6a-86ad3fca758c",
   "metadata": {},
   "outputs": [],
   "source": [
    "await incubator.stop()"
   ]
  },
  {
   "cell_type": "code",
   "execution_count": null,
   "id": "b2e911c8-2729-494c-b5d0-516e527e072c",
   "metadata": {},
   "outputs": [],
   "source": []
  }
 ],
 "metadata": {
  "kernelspec": {
   "display_name": "Python 3 (ipykernel)",
   "language": "python",
   "name": "python3"
  },
  "language_info": {
   "codemirror_mode": {
    "name": "ipython",
    "version": 3
   },
   "file_extension": ".py",
   "mimetype": "text/x-python",
   "name": "python",
   "nbconvert_exporter": "python",
   "pygments_lexer": "ipython3",
   "version": "3.12.11"
  }
 },
 "nbformat": 4,
 "nbformat_minor": 5
}
