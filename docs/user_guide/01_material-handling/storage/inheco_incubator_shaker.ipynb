{
 "cells": [
  {
   "cell_type": "markdown",
   "id": "01bd78dc-183e-45fe-a3b0-59c8666b4f14",
   "metadata": {},
   "source": [
    "# Inheco Incubator (Shaker)\n",
    "\n",
    "| Summary | Photo |\n",
    "|----------|--------|\n",
    "| - [OEM Link](https://www.inheco.com/incubator-shaker.html)<br>- **Communication Protocol / Hardware**: Serial (FTDI)/ USB-A<br>- **Communication Level**: Firmware (documentation shared by OEM)<br>- Same command set for:<ul><li>Incubator \"MP\"</li><li>Incubator \"DWP\"</li><li>Incubator Shaker \"MP\"</li><li>Incubator Shaker \"DWP\"</li></ul>- Incubator Shaker \"MP\" VID:PID 0403:6001<br>- Takes in a single plate via a loading tray, heats it to set temperature, shakes it to set RPM | ![quadrants](img/inheco_incubator_shaker_mp_dwp.png) |\n"
   ]
  },
  {
   "cell_type": "markdown",
   "id": "70f74446-c274-4803-a6ce-6c9c2d7d3bba",
   "metadata": {},
   "source": [
    "This notebook provides a minimal working example to connect to and interact with an INHECO Incubator Shaker over a USB serial connection. It demonstrates how to initialize communication, issue basic commands, and interpret the device’s responses.\n",
    "\n",
    "## About the Device and Setup\n",
    "\n",
    "INHECO incubator shakers are modular devices used for temperature control and agitation in lab automation setups. Multiple devices can be connected in a stack via USB, each assigned a **device ID** and **subdevice number** (usually 0–5). Commands are sent via a serial protocol and must be carefully constructed with CRC checks and timeouts.\n",
    "\n",
    "Ensure:\n",
    "- The correct **serial port** is selected (e.g., `/dev/cu.usbserial-140` on macOS).\n",
    "- You know the **device ID** for the incubator you're communicating with.\n",
    "- Only one command is sent at a time — the device cannot queue or process multiple requests concurrently."
   ]
  },
  {
   "cell_type": "code",
   "execution_count": null,
   "id": "c3d4238d-7f5f-46da-8aae-c411e422f6b3",
   "metadata": {},
   "outputs": [],
   "source": []
  },
  {
   "cell_type": "markdown",
   "id": "42739583-9f29-4063-983d-18dcdfea61ba",
   "metadata": {},
   "source": [
    "## Setup Instructions (Physical)"
   ]
  },
  {
   "cell_type": "markdown",
   "id": "95e39b36-c441-499d-bfaa-327d49d5cc04",
   "metadata": {},
   "source": [
    "| Summary                                                                                                                                                                                                                                                                                                                                                                                                                                                                                       | Photo                                            |\n",
    "|-----------------------------------------------------------------------------------------------------------------------------------------------------------------------------------------------------------------------------------------------------------------------------------------------------------------------------------------------------------------------------------------------------------------------------------------------------------------------------------------------|----------------------------------------------------|\n",
    "| ![quadrants](img/inheco_incubator_shaker_physical_setup_overview.png) | |"
   ]
  },
  {
   "cell_type": "raw",
   "id": "e916e588-1dbf-45b3-bfe5-611f5c2e7f69",
   "metadata": {},
   "source": [
    "incubator = InhecoIncubatorShakerBackend(dip_switch_id=2)\n",
    "await incubator.setup()"
   ]
  },
  {
   "cell_type": "markdown",
   "id": "d0d6256e-673a-4979-88cc-d07959ce92ea",
   "metadata": {},
   "source": [
    "## Setup Instructions (Programmatic)"
   ]
  },
  {
   "cell_type": "code",
   "execution_count": 1,
   "id": "5ed337a5-2b63-4962-8b54-d274a5bc6fbc",
   "metadata": {},
   "outputs": [],
   "source": [
    "import asyncio\n",
    "import serial\n",
    "import serial.tools.list_ports\n",
    "import logging\n",
    "from typing import Optional, List\n",
    "\n",
    "\n",
    "class InhecoTask:\n",
    "    \"\"\"Represents a pending Inheco command awaiting a response.\"\"\"\n",
    "    def __init__(self, fut: asyncio.Future, cmd: str, timeout_time: float):\n",
    "        self.fut = fut\n",
    "        self.cmd = cmd\n",
    "        self.timeout_time = timeout_time\n",
    "\n",
    "class InhecoError(RuntimeError):\n",
    "    \"\"\"Represents a firmware-reported INHECO error.\"\"\"\n",
    "    def __init__(self, command: str, code: str, message: str):\n",
    "        super().__init__(f\"{command} failed with error {code}: {message}\")\n",
    "        self.command = command\n",
    "        self.code = code\n",
    "        self.message = message\n",
    "\n",
    "\n",
    "ERROR_CODE_MAP = {\n",
    "    \"E00\": \"Unknown or generic error\",\n",
    "    \"E01\": \"Drawer open\",\n",
    "    \"E02\": \"Temperature sensor error\",\n",
    "    \"E03\": \"Communication error\",\n",
    "    \"E04\": \"Shaker not initialized\",\n",
    "    \"E05\": \"Over-temperature\",\n",
    "    \"E06\": \"Under-temperature\",\n",
    "    \"E07\": \"No plate detected\",\n",
    "    \"E08\": \"Plate jammed or not removable\",\n",
    "    \"E09\": \"Hardware self-test failed\",\n",
    "    \"E10\": \"Overcurrent on motor or fan\",\n",
    "    \"E11\": \"EEPROM checksum error\",\n",
    "    \"E12\": \"Power failure or voltage out of range\",\n",
    "    \"E13\": \"Temperature deviation too high\",\n",
    "    \"E14\": \"Safety sensor triggered\",\n",
    "    \"E15\": \"Firmware internal error\",\n",
    "}\n",
    "\n",
    "\n",
    "\n",
    "class InhecoIncubatorShakerBackend:\n",
    "    \"\"\"Backend for controlling an Inheco Incubator Shaker via RS-232 or auto-detected FTDI.\"\"\"\n",
    "\n",
    "    def __init__(\n",
    "        self,\n",
    "        port: Optional[str] = None,\n",
    "        dip_switch_id: int = 2,\n",
    "        stack_index: int = 0,\n",
    "        write_timeout: float = 5.0,\n",
    "        read_timeout: float = 10.0\n",
    "    ):\n",
    "        # --- Detect port automatically if not provided ---\n",
    "        # if more than one Inheco Incubator Shaker (Stack) are to be used\n",
    "        # you have to declare each ones port explicitly to avoid confusion\n",
    "        VID = \"0403\"\n",
    "        PID = \"6001\"\n",
    "\n",
    "        if port is None:\n",
    "            matching_ports = [\n",
    "                p.device\n",
    "                for p in serial.tools.list_ports.comports()\n",
    "                if f\"{VID}:{PID}\" in p.hwid\n",
    "            ]\n",
    "\n",
    "            if not matching_ports:\n",
    "                raise RuntimeError(f\"No FTDI ({VID}:{PID}) serial devices found.\")\n",
    "\n",
    "            if len(matching_ports) > 1:\n",
    "                ports_list = \", \".join(matching_ports)\n",
    "                raise RuntimeError(\n",
    "                    f\"Multiple Inheco machines with VID:PID={VID}:{PID} found: \"\n",
    "                    f\"{ports_list}. Please specify which port to use explicitly.\"\n",
    "                )\n",
    "\n",
    "            port = matching_ports[0]\n",
    "        \n",
    "        # Connection parameters\n",
    "        self.port = port\n",
    "        self.dip_switch_id = dip_switch_id\n",
    "        self.stack_index = stack_index\n",
    "        self.logger = logging.getLogger(__name__)\n",
    "\n",
    "        # Serial connection\n",
    "        self.ser = None\n",
    "        self.write_timeout = write_timeout\n",
    "        self.read_timeout = read_timeout\n",
    "\n",
    "        # Cached machine status\n",
    "        self.loading_tray = \"unknown\"\n",
    "        self.incubator_type = \"unknown\"\n",
    "        self.firmware_version = \"unknown\"\n",
    "\n",
    "    # === Lifecycle ===\n",
    "\n",
    "    async def setup(self):\n",
    "        self.ser = serial.Serial(\n",
    "            port=self.port,\n",
    "            baudrate=19200,\n",
    "            bytesize=serial.EIGHTBITS,\n",
    "            parity=serial.PARITY_NONE,\n",
    "            stopbits=serial.STOPBITS_ONE,\n",
    "            timeout=0\n",
    "        )\n",
    "        self.ser.write_timeout = self.write_timeout\n",
    "\n",
    "        self.firmware_version = await self.request_firmware_version()\n",
    "        incubator_type = await self.request_incubator_type()\n",
    "        serial_number = await self.request_serial_number()\n",
    "        \n",
    "        msg = (\n",
    "            f\"Connected to Inheco {incubator_type} on {self.port}\\n\"\n",
    "            f\"Machine serial number: {serial_number}\\n\"\n",
    "            f\"Firmware version: {self.firmware_version}\"\n",
    "        )\n",
    "        print(msg)\n",
    "        self.logger.info(msg)\n",
    "\n",
    "        await self.initialize()\n",
    "        await self.close()\n",
    "\n",
    "    async def stop(self):\n",
    "        if self.ser and self.ser.is_open:\n",
    "            self.ser.close()\n",
    "            self.logger.info(\"Disconnected from Inheco Incubator Shaker\")\n",
    "\n",
    "    # === Low-level I/O ===\n",
    "\n",
    "    async def write(self, data: bytes):\n",
    "        self.logger.debug(f\"→ {data.hex()}\")\n",
    "        self.ser.write(data)\n",
    "\n",
    "    async def _read_full_response(self, timeout: float = 5.0) -> bytes:\n",
    "        \"\"\"\n",
    "        Read a full INHECO response frame.\n",
    "        Stops on either:\n",
    "          • <CR> (0x0D) terminator   — report replies\n",
    "          • [header, 0x20, 0x60]     — ACK\n",
    "          • [header, 0x28, 0x60]     — ERROR (long)\n",
    "          • [header, 0x23, 0x60]     — ERROR (short, e.g. RER reply)\n",
    "        \"\"\"\n",
    "        loop = asyncio.get_event_loop()\n",
    "        start = loop.time()\n",
    "        buffer = bytearray()\n",
    "        header = 0xB0 + self.dip_switch_id\n",
    "    \n",
    "        tails = [\n",
    "            bytes([header, 0x20, 0x60]),  # ACK\n",
    "            bytes([header, 0x28, 0x60]),  # Error\n",
    "            bytes([header, 0x23, 0x60]),  # Short error or RER\n",
    "        ]\n",
    "    \n",
    "        while True:\n",
    "            if self.ser.in_waiting:\n",
    "                chunk = self.ser.read(self.ser.in_waiting)\n",
    "                if chunk:\n",
    "                    buffer.extend(chunk)\n",
    "                    self.logger.debug(f\"RX: {chunk.hex()}\")\n",
    "    \n",
    "                    # Stop when a known tail or <CR> occurs\n",
    "                    if b\"\\r\" in buffer or any(buffer.endswith(t) for t in tails):\n",
    "                        return bytes(buffer)\n",
    "    \n",
    "            if loop.time() - start > timeout:\n",
    "                raise TimeoutError(f\"Timed out waiting for complete response ({buffer.hex()})\")\n",
    "    \n",
    "            await asyncio.sleep(0.01)\n",
    "\n",
    "\n",
    "\n",
    "    # === Encoding / Decoding ===\n",
    "\n",
    "    def _crc8(self, data: bytearray) -> int:\n",
    "        crc = 0xA1\n",
    "        for byte in data:\n",
    "            d = byte\n",
    "            for _ in range(8):\n",
    "                if (d ^ crc) & 1:\n",
    "                    crc ^= 0x18\n",
    "                    crc >>= 1\n",
    "                    crc |= 0x80\n",
    "                else:\n",
    "                    crc >>= 1\n",
    "                d >>= 1\n",
    "        return crc & 0xFF\n",
    "\n",
    "    def _build_message(self, command: str, stack_index: int = 0) -> bytes:\n",
    "        if not (0 <= stack_index <= 5):\n",
    "            raise ValueError(\"stack_index must be between 0 and 5\")\n",
    "        full_command = f\"T0{stack_index}{command}\"\n",
    "        cmd = full_command.encode(\"ascii\")\n",
    "        length = len(cmd) + 3\n",
    "        address = 0x30 + self.dip_switch_id\n",
    "        proto = 0xC0 + len(cmd)\n",
    "        message = bytearray([length, address, proto]) + cmd\n",
    "        crc = self._crc8(message)\n",
    "        return bytes(message + bytearray([crc]))\n",
    "\n",
    "    def _is_report_command(self, command: str) -> bool:\n",
    "        return command.upper().startswith(\"R\")\n",
    "\n",
    "    def _parse_response_bytes(self, response) -> str:\n",
    "        \"\"\"Decode and clean INHECO response bytes.\"\"\"\n",
    "        expected_header = 0xB0 + self.dip_switch_id\n",
    "        ack_tail = bytes([expected_header, 0x20, 0x60])\n",
    "        err_tail = bytes([expected_header, 0x28, 0x60])\n",
    "        short_err_tail = bytes([expected_header, 0x23, 0x60])\n",
    "        short_tail = b\"\\r\\n\"\n",
    "    \n",
    "        if isinstance(response, str):\n",
    "            cleaned = \"\".join(ch for ch in response if 32 <= ord(ch) <= 126)\n",
    "            return cleaned.strip(\" `\\t\\r\\n\")\n",
    "    \n",
    "        if not isinstance(response, (bytes, bytearray)):\n",
    "            raise TypeError(f\"Expected bytes or str, got {type(response).__name__}\")\n",
    "    \n",
    "        if not response:\n",
    "            raise ValueError(\"Empty response from machine.\")\n",
    "    \n",
    "        # header check\n",
    "        first = response[0]\n",
    "        if not response.startswith(bytes([expected_header])) and not (\n",
    "            65 <= first <= 90 or 97 <= first <= 122\n",
    "        ):\n",
    "            raise ValueError(f\"Unexpected response header: {response[:1].hex()}\")\n",
    "    \n",
    "        # known valid terminators\n",
    "        valid_endings = (\n",
    "            response.endswith(ack_tail)\n",
    "            or response.endswith(err_tail)\n",
    "            or response.endswith(short_err_tail)\n",
    "            or response.endswith(short_tail)\n",
    "            or response.endswith(b\"\\r\")\n",
    "        )\n",
    "        if not valid_endings:\n",
    "            raise ValueError(f\"Unexpected response terminator: {response[-3:].hex()}\")\n",
    "    \n",
    "        # short 0x23 tail → explicit “no details” indicator (per spec)\n",
    "        if response.endswith(short_err_tail):\n",
    "            return \"E00\"\n",
    "    \n",
    "        decoded = response.decode(\"ascii\", errors=\"ignore\")\n",
    "        cleaned = \"\".join(ch for ch in decoded if 32 <= ord(ch) <= 126)\n",
    "        return cleaned.rstrip(\" `\\t\\r\\n\")\n",
    "\n",
    "\n",
    "    def _validate_acknowledgement(self, response: bytes):\n",
    "        expected_header = 0xB0 + self.dip_switch_id\n",
    "        if not response.startswith(bytes([expected_header])):\n",
    "            raise ValueError(f\"Unexpected ack header: {response[:1].hex()}\")\n",
    "        if not response.endswith(bytes([expected_header, 0x20, 0x60])):\n",
    "            raise ValueError(f\"Unexpected ack terminator: {response[-3:].hex()}\")\n",
    "\n",
    "    def _is_error_response(self, response: bytes) -> bool:\n",
    "        \"\"\"Detects if response is an error frame.\"\"\"\n",
    "        header = 0xB0 + self.dip_switch_id\n",
    "        return response.endswith(bytes([header, 0x28, 0x60]))\n",
    "\n",
    "    \n",
    "    # === High-level Command API ===\n",
    "\n",
    "    async def send_command(\n",
    "        self,\n",
    "        command: str,\n",
    "        delay: float = 0.2,\n",
    "        read_timeout: Optional[float] = None\n",
    "    ) -> str:\n",
    "        msg = self._build_message(command, stack_index=self.stack_index)\n",
    "        await self.write(msg)\n",
    "        await asyncio.sleep(delay)\n",
    "        response = await self._read_full_response(timeout=read_timeout or self.read_timeout)\n",
    "    \n",
    "        if not response:\n",
    "            raise TimeoutError(f\"No response from machine for command: {command}\")\n",
    "    \n",
    "        # --- handle error frame ---\n",
    "        if self._is_error_response(response):\n",
    "            try:\n",
    "                await asyncio.sleep(0.05)  # short grace delay for machine to prepare\n",
    "                err_resp = await self.send_command(\"RER\", delay=0.1)\n",
    "                parsed = self._parse_response_bytes(err_resp) if err_resp else \"\"\n",
    "                code = (parsed or \"E00\")[:3].upper()\n",
    "        \n",
    "                # --- Retry once if no code came back (some firmwares delay RER) ---\n",
    "                if code == \"E00\":\n",
    "                    await asyncio.sleep(0.1)\n",
    "                    err_resp = await self.send_command(\"RER\", delay=0.1)\n",
    "                    parsed = self._parse_response_bytes(err_resp) if err_resp else \"\"\n",
    "                    code = (parsed or \"E00\")[:3].upper()\n",
    "        \n",
    "                # --- Decode human-readable error ---\n",
    "                if code == \"E00\":\n",
    "                    message = (\n",
    "                        \"Generic error — machine did not provide detailed code \"\n",
    "                        \"(firmware returned short [B0+ID 23 60] frame)\"\n",
    "                    )\n",
    "                else:\n",
    "                    message = ERROR_CODE_MAP.get(code, \"Unknown error\")\n",
    "        \n",
    "                raise InhecoError(command, code, message)\n",
    "        \n",
    "            except TimeoutError:\n",
    "                raise InhecoError(command, \"???\", \"Unknown error (RER query timed out)\")\n",
    "    \n",
    "        # --- handle normal cases ---\n",
    "        if self._is_report_command(command):\n",
    "            return self._parse_response_bytes(response)\n",
    "        else:\n",
    "            self._validate_acknowledgement(response)\n",
    "            return \"\"\n",
    "\n",
    "\n",
    "\n",
    "    # === Public API ===\n",
    "\n",
    "    # # # Inheco's \"Report Commnads\" # # # \n",
    "    async def request_firmware_version(self):\n",
    "        \"\"\"  \"\"\"\n",
    "        return await self.send_command(\"RFV0\")\n",
    "\n",
    "    async def request_serial_number(self):\n",
    "        \"\"\" \"\"\"\n",
    "        return await self.send_command(\"RFV2\")\n",
    "\n",
    "    async def request_last_calibration_date(self):\n",
    "        \"\"\"\n",
    "        Reports the date and an alphanumeric string (e.g. operator) of the last calibration for the machine.\n",
    "        The Data is reported in the Format YYYY-MM-DD,xxxxx (Example: 2005-09-28,xxxxx).\n",
    "        The five xs are alphanumeric wildcards.\n",
    "        \"\"\"\n",
    "        resp = await incubator.send_command(\"RCM\")\n",
    "    \n",
    "        return resp[:10]\n",
    "\n",
    "    \n",
    "    async def request_number_of_connected_machines(self):\n",
    "        \"\"\" \n",
    "        How many Inheco Incubator (Shakers) are connected to the called machines?\n",
    "        \"\"\"\n",
    "        \n",
    "        resp = await self.send_command(\"RDA\")\n",
    "        # TODO: test on NOT stack_index == 0; \n",
    "        # Does it report the remainder of the above machines in the stack?\n",
    "    \n",
    "        return int(resp)\n",
    "\n",
    "    async def request_labware_detection_threshold(self) -> int:\n",
    "        \"\"\"Report the labware detection threshold used during drawer movement (RDM).\"\"\"\n",
    "        resp = await self.send_command(\"RDM\")\n",
    "        return int(resp)\n",
    "\n",
    "\n",
    "    async def request_incubator_type(self):\n",
    "        \"\"\"\n",
    "        Identify what machine functionality you have:\n",
    "        Incubator (1) with shaker, (2) MP or DWP chamber \n",
    "        \"\"\"\n",
    "        \n",
    "        incubator_type_dict = {\n",
    "            \"0\": \"incubator_mp\", # no shaker!\n",
    "            \"1\": \"incubator_shaker_mp\",\n",
    "            \"2\": \"incubator_dwp\", # no shaker!\n",
    "            \"3\": \"incubator_shaker_dwp\",\n",
    "        }\n",
    "        \n",
    "        resp = await self.send_command(\"RTS\")\n",
    "\n",
    "        incubator_identified = incubator_type_dict[resp]\n",
    "        \n",
    "        self.incubator_type = incubator_identified\n",
    "        \n",
    "        return incubator_identified\n",
    "\n",
    "    async def request_analog_values(self):\n",
    "        \"\"\" Unknown feature \"\"\"\n",
    "        # resp = await self.send_command(\"RAV\")\n",
    "        return NotImplementedError(\"RAV not yet implemented, unknown feature.\")\n",
    "\n",
    "    async def request_plate_in_incubator(self):\n",
    "        \"\"\" Request whether incubator currently hosts a plate \"\"\"\n",
    "        \n",
    "        resp = await self.send_command(\"RLW\")\n",
    "    \n",
    "        return resp == \"1\"\n",
    "\n",
    "    async def request_analog_values(self):\n",
    "        # resp = await self.send_command(\"RAV\")\n",
    "        return NotImplementedError(\"RAV not yet implemented, unknown feature.\")\n",
    "\n",
    "    async def request_operation_time_in_hours(self):\n",
    "        \"\"\"\n",
    "        Report the overall operation time the machine has gone through in hours\n",
    "        \"\"\"\n",
    "        resp = await self.send_command(\"RDC1\")\n",
    "        \n",
    "        return int(resp)\n",
    "\n",
    "    async def request_drawer_cyles_performed(self):\n",
    "        \"\"\" Report the overall operation time in hours \"\"\"\n",
    "        resp = await self.send_command(\"RDC2\")\n",
    "        \n",
    "        return int(resp)\n",
    "\n",
    "    async def request_is_initialized(self):\n",
    "        \"\"\" Request whether machine has undergone an initialization procedure \"\"\"\n",
    "        resp = await self.send_command(\"REE\")\n",
    "    \n",
    "        return resp in {\"0\", \"2\"}\n",
    "\n",
    "    async def request_plate_status_known(self):\n",
    "        \"\"\"\n",
    "        Report whether the machine has knowledge of whether it hosts a plate or not.\n",
    "        Note: use await incubator.request_plate_in_incubator() to *measure* whether \n",
    "          a plate is present\n",
    "        \"\"\"\n",
    "        resp = await self.send_command(\"REE\")\n",
    "    \n",
    "        return resp in {\"0\", \"1\"}\n",
    "\n",
    "\n",
    "\n",
    "    \n",
    "        \n",
    "    # # # Inheco's \"Set Commands\" # # # \n",
    "\n",
    "    \n",
    "\n",
    "    # # # Inheco's \"Action Commands\" # # # \n",
    "    async def initialize(self):\n",
    "        return await self.send_command(\"AID\")\n",
    "\n",
    "    # Loading tray commands #\n",
    "    async def open(self):\n",
    "        await self.send_command(\"AOD\")\n",
    "        self.loading_tray = \"open\"\n",
    "\n",
    "    async def close(self):\n",
    "        await self.send_command(\"ACD\")\n",
    "        self.loading_tray = \"closed\"\n",
    "\n",
    "    async def debug_rer(self):\n",
    "        \"\"\"Send RER manually and log raw bytes + parsed result.\"\"\"\n",
    "        print(\">>> Sending RER manually...\")\n",
    "        msg = self._build_message(\"RER\", stack_index=self.stack_index)\n",
    "        await self.write(msg)\n",
    "        await asyncio.sleep(0.1)\n",
    "        response = await self._read_full_response(timeout=2.0)\n",
    "        print(f\"Raw RER response: {response.hex(' ')}\")\n",
    "        try:\n",
    "            parsed = self._parse_response_bytes(response)\n",
    "            print(f\"Parsed: {parsed!r}\")\n",
    "        except Exception as e:\n",
    "            print(f\"Parse error: {e}\")\n",
    "\n",
    "\n",
    "\n"
   ]
  },
  {
   "cell_type": "code",
   "execution_count": 2,
   "id": "0b330209-884d-4eac-9655-06933a534ccf",
   "metadata": {},
   "outputs": [
    {
     "name": "stdout",
     "output_type": "stream",
     "text": [
      "Connected to Inheco incubator_shaker_mp on /dev/cu.usbserial-130\n",
      "Machine serial number: 2013\n",
      "Firmware version: IncShak_C_V3.50_04/2012\n"
     ]
    }
   ],
   "source": [
    "# Autodetect FTDI device\n",
    "incubator = InhecoIncubatorShakerBackend(\n",
    "    dip_switch_id=2,\n",
    "    stack_index=0\n",
    ")\n",
    "await incubator.setup()"
   ]
  },
  {
   "cell_type": "code",
   "execution_count": 3,
   "id": "ecfeb2eb-3018-406f-b96a-ea366f9dd182",
   "metadata": {},
   "outputs": [
    {
     "data": {
      "text/plain": [
       "'0'"
      ]
     },
     "execution_count": 3,
     "metadata": {},
     "output_type": "execute_result"
    }
   ],
   "source": [
    "await incubator.send_command(\"REE\")"
   ]
  },
  {
   "cell_type": "raw",
   "id": "ed0ca1f4-46bd-4fce-8dca-98a9afa98349",
   "metadata": {},
   "source": [
    "await incubator.open()"
   ]
  },
  {
   "cell_type": "code",
   "execution_count": 4,
   "id": "7642febc-5a5e-4e17-be6d-8a75fae7a1f4",
   "metadata": {
    "scrolled": true
   },
   "outputs": [
    {
     "data": {
      "text/plain": [
       "False"
      ]
     },
     "execution_count": 4,
     "metadata": {},
     "output_type": "execute_result"
    }
   ],
   "source": [
    "await incubator.request_plate_in_incubator()"
   ]
  },
  {
   "cell_type": "code",
   "execution_count": 7,
   "id": "edb4acca-b5e7-4e9f-b526-48d0307d4f61",
   "metadata": {},
   "outputs": [
    {
     "name": "stdout",
     "output_type": "stream",
     "text": [
      ">>> Sending RER manually...\n",
      "Raw RER response: b2 23 60\n",
      "Parsed: 'E00'\n"
     ]
    }
   ],
   "source": [
    "await incubator.debug_rer()"
   ]
  },
  {
   "cell_type": "code",
   "execution_count": null,
   "id": "2d22994c-4b78-4177-91c2-3f37a025c2c2",
   "metadata": {},
   "outputs": [],
   "source": []
  },
  {
   "cell_type": "code",
   "execution_count": null,
   "id": "b9d423f1-00b2-4d77-9055-e63e916d39ed",
   "metadata": {},
   "outputs": [],
   "source": []
  },
  {
   "cell_type": "code",
   "execution_count": 7,
   "id": "b9f935ac-176a-4b74-a693-49e2869cb9c6",
   "metadata": {},
   "outputs": [],
   "source": [
    "await incubator.close()"
   ]
  },
  {
   "cell_type": "raw",
   "id": "268507c8-aef0-4733-a225-8694eacb5dc4",
   "metadata": {},
   "source": [
    "incubator.device_id"
   ]
  },
  {
   "cell_type": "code",
   "execution_count": 5,
   "id": "f5c75900-60c1-4efa-bd4f-483496f8f354",
   "metadata": {},
   "outputs": [
    {
     "data": {
      "text/plain": [
       "50"
      ]
     },
     "execution_count": 5,
     "metadata": {},
     "output_type": "execute_result"
    }
   ],
   "source": [
    "incubator.loading_tray\n",
    "\n",
    "await incubator.request_operation_time_in_hours()"
   ]
  },
  {
   "cell_type": "code",
   "execution_count": 6,
   "id": "f0dd5eff-39c7-4750-a7f2-c2599dfb0b73",
   "metadata": {},
   "outputs": [
    {
     "data": {
      "text/plain": [
       "True"
      ]
     },
     "execution_count": 6,
     "metadata": {},
     "output_type": "execute_result"
    }
   ],
   "source": [
    "await incubator.request_is_initialized()"
   ]
  },
  {
   "cell_type": "code",
   "execution_count": 6,
   "id": "e923c40e-bd5a-495a-a732-9e0dc9eece45",
   "metadata": {},
   "outputs": [
    {
     "data": {
      "text/plain": [
       "'0'"
      ]
     },
     "execution_count": 6,
     "metadata": {},
     "output_type": "execute_result"
    }
   ],
   "source": [
    " await incubator.send_command(\"RLW\")"
   ]
  },
  {
   "cell_type": "markdown",
   "id": "e9c95159-484c-4a21-9cdb-43c4ee017bbe",
   "metadata": {},
   "source": [
    "## Usage\n",
    "\n",
    "### Testing & Investigation"
   ]
  },
  {
   "cell_type": "code",
   "execution_count": 10,
   "id": "e500c059-db4d-4b96-af70-c3fa1b0dfadb",
   "metadata": {},
   "outputs": [
    {
     "data": {
      "text/plain": [
       "'2'"
      ]
     },
     "execution_count": 10,
     "metadata": {},
     "output_type": "execute_result"
    }
   ],
   "source": []
  },
  {
   "cell_type": "code",
   "execution_count": 6,
   "id": "d1d3b577-b762-49ce-a323-233c8aa77311",
   "metadata": {},
   "outputs": [
    {
     "data": {
      "text/plain": [
       "'0'"
      ]
     },
     "execution_count": 6,
     "metadata": {},
     "output_type": "execute_result"
    }
   ],
   "source": [
    "await incubator.send_command(\"REE\")"
   ]
  },
  {
   "cell_type": "code",
   "execution_count": null,
   "id": "ed33e5b4-548f-4739-b41b-22391e2a0066",
   "metadata": {},
   "outputs": [],
   "source": []
  },
  {
   "cell_type": "code",
   "execution_count": null,
   "id": "898c1396-b2a8-4626-bf10-7fd61f568303",
   "metadata": {},
   "outputs": [],
   "source": []
  },
  {
   "cell_type": "code",
   "execution_count": 13,
   "id": "65ca6226-0d73-410d-9e09-c05edb797b67",
   "metadata": {},
   "outputs": [
    {
     "data": {
      "text/plain": [
       "'1675'"
      ]
     },
     "execution_count": 13,
     "metadata": {},
     "output_type": "execute_result"
    }
   ],
   "source": [
    "await incubator.send_command(\"RDC2\")\n",
    "\n",
    "# Reports the status of the initialisation of the device and the status of the Lab-Ware detection\n",
    "# if\n",
    "# 0 Device initialised\n",
    "# 1 Device not initialised\n",
    "# 2 Lab-Ware status unknown\n",
    "# 3 Device not initialised and Lab-Ware status unknow"
   ]
  },
  {
   "cell_type": "code",
   "execution_count": 12,
   "id": "77d3d7fe-b5a1-4550-b621-d1d8799b67c9",
   "metadata": {},
   "outputs": [
    {
     "data": {
      "text/plain": [
       "'1'"
      ]
     },
     "execution_count": 12,
     "metadata": {},
     "output_type": "execute_result"
    }
   ],
   "source": []
  },
  {
   "cell_type": "code",
   "execution_count": 16,
   "id": "77858e58-df21-47b6-a1a1-fe92e3aedbd1",
   "metadata": {},
   "outputs": [
    {
     "name": "stdout",
     "output_type": "stream",
     "text": [
      "0 IncShak_C_V3.50_04/2012\n",
      "1 BOOT_C_V3.12_05/2007\n",
      "2 2013\n",
      "3 0\n",
      "5 COPYRIGHT INHECO\n",
      "7 1\n",
      "10 IncShak\n",
      "15 350\n",
      "20 325\n",
      "21 315\n",
      "22 IncShak_R_V3.25_12/2011\n",
      "23 BOOT_R_V1.10_01/2007\n",
      "24 IncShak_S_V3.15_05/2011\n",
      "25 BOOT_S_V1.10_01/2007\n"
     ]
    }
   ],
   "source": [
    "for x in [\n",
    "    0, 1, 2, 3, \n",
    "    5, 7, 10, 15,\n",
    "    20, 21, 22, 23,\n",
    "    24, 25\n",
    "]:\n",
    "    print(x, await incubator.send_command(f\"RFV{x}\") )\n",
    "\n",
    "# Reports the date and an alphanumeric string (e.g. operator) of the last calibration for the device.\n",
    "# The Data is reported in the Format YYYY-MM-DD,xxxxx (Example: 2005-09-28,xxxxx).\n",
    "# The five xs are alphanumeric wildcards."
   ]
  },
  {
   "cell_type": "code",
   "execution_count": 22,
   "id": "318e848d-4582-4c8c-8e25-36a75482ac17",
   "metadata": {},
   "outputs": [
    {
     "data": {
      "text/plain": [
       "'incubator_shaker_mp'"
      ]
     },
     "execution_count": 22,
     "metadata": {},
     "output_type": "execute_result"
    }
   ],
   "source": []
  },
  {
   "cell_type": "code",
   "execution_count": null,
   "id": "acd4cf54-b2e2-4d8a-838b-9993b9a96782",
   "metadata": {},
   "outputs": [],
   "source": []
  },
  {
   "cell_type": "code",
   "execution_count": 9,
   "id": "14e67632-af12-489b-bf1f-230ef7bc9bb3",
   "metadata": {},
   "outputs": [],
   "source": [
    "await incubator.stop()"
   ]
  },
  {
   "cell_type": "code",
   "execution_count": 15,
   "id": "af37e48c-0694-4d8f-9822-56067153b8a2",
   "metadata": {},
   "outputs": [
    {
     "data": {
      "text/plain": [
       "'0'"
      ]
     },
     "execution_count": 15,
     "metadata": {},
     "output_type": "execute_result"
    }
   ],
   "source": [
    "\n",
    "def request_machine_initialisation_status():\n",
    "    \"\"\" \"\"\"\n",
    "    resp = await incubator.send_command(\"REE\")\n",
    "\n",
    "# Reports the status of the initialisation of the device and the status of the Lab-Ware detection\n",
    "# if\n",
    "# 0 Device initialised\n",
    "# 1 Device not initialised\n",
    "# 2 Lab-Ware status unknown\n",
    "# 3 Device not initialised and Lab-Ware status unknow"
   ]
  },
  {
   "cell_type": "raw",
   "id": "e77a1c58-4e75-4984-9857-632661125be1",
   "metadata": {},
   "source": [
    "await incubator.send_command(\"AQS\", read_timeout=360)\n"
   ]
  },
  {
   "cell_type": "markdown",
   "id": "a30de061-fc3f-434c-882e-4972c8404479",
   "metadata": {},
   "source": [
    "### Loading Drawer"
   ]
  },
  {
   "cell_type": "code",
   "execution_count": 14,
   "id": "e6009273-a626-4de9-a9db-0f0de8021a0e",
   "metadata": {},
   "outputs": [],
   "source": [
    "await incubator.open_lid()\n",
    "# await asyncio.sleep(5)\n",
    "# await incubator.close_lid()"
   ]
  },
  {
   "cell_type": "code",
   "execution_count": 16,
   "id": "71514b7a-2d7a-469a-8ff1-1c2abc4e30df",
   "metadata": {},
   "outputs": [],
   "source": [
    "await incubator.close_lid()"
   ]
  },
  {
   "cell_type": "markdown",
   "id": "6aaef05a-2cb9-4b12-bf86-ae6d63665036",
   "metadata": {},
   "source": [
    "### Temperature Control"
   ]
  },
  {
   "cell_type": "code",
   "execution_count": 8,
   "id": "29a021ca-70b6-4a66-bd6d-570d99df7902",
   "metadata": {},
   "outputs": [
    {
     "name": "stdout",
     "output_type": "stream",
     "text": [
      "0 {1: '172', 2: '173', 3: '173'}\n",
      "1 {1: '172', 2: '173', 3: '173'}\n",
      "2 {1: '172', 2: '173', 3: '173'}\n",
      "3 {1: '173', 2: '173', 3: '173'}\n",
      "4 {1: '172', 2: '173', 3: '173'}\n"
     ]
    }
   ],
   "source": [
    "for t in range(5):\n",
    "    temp_meas = {}\n",
    "    \n",
    "    for x in range(1,4):\n",
    "        temp_meas[x] = await incubator.send_command(f\"RAT{x}\", read_timeout=60)\n",
    "\n",
    "    print(t, temp_meas)\n",
    "    time.sleep(1)\n",
    "\n",
    "# This command reports the actual ambient or slot temperatures of the three sensors.\n",
    "# It can be chosen whether the evaluated temperature or the sensor value should be reported.\n",
    "# The temperatures are reported in 1/10 °C: 345 = 34,5 °C"
   ]
  },
  {
   "cell_type": "code",
   "execution_count": null,
   "id": "0acc085c-3454-4ecd-96a5-78b0ec6ff808",
   "metadata": {},
   "outputs": [],
   "source": [
    "await incubator.send_command(\"RTT\", read_timeout=60)\n"
   ]
  },
  {
   "cell_type": "code",
   "execution_count": null,
   "id": "5822eab3-d2c5-4266-8031-7abec1ff96a3",
   "metadata": {},
   "outputs": [],
   "source": [
    "await incubator.send_command(\"STT700\", read_timeout=60)\n"
   ]
  },
  {
   "cell_type": "code",
   "execution_count": null,
   "id": "b0408abc-cefd-40c6-994f-13ec9989c626",
   "metadata": {},
   "outputs": [],
   "source": []
  },
  {
   "cell_type": "markdown",
   "id": "58c0aa31-9b6b-426f-a038-cdb80614c005",
   "metadata": {},
   "source": [
    "### Shaking Control\n",
    "\n",
    "TODO"
   ]
  },
  {
   "cell_type": "code",
   "execution_count": null,
   "id": "a0dfa8c5-5815-439c-b4ca-1607c2e99844",
   "metadata": {},
   "outputs": [],
   "source": []
  },
  {
   "cell_type": "code",
   "execution_count": 4,
   "id": "2ea08f9b-bbc4-47d2-be23-da541ebf65cf",
   "metadata": {},
   "outputs": [
    {
     "name": "stdout",
     "output_type": "stream",
     "text": [
      "Scanning USB serial devices...\n",
      "Device: /dev/cu.debug-console\n",
      "  Description: n/a\n",
      "  HWID: n/a\n",
      "----------------------------------------\n",
      "Device: /dev/cu.BoseQC35II\n",
      "  Description: n/a\n",
      "  HWID: n/a\n",
      "----------------------------------------\n",
      "Device: /dev/cu.Bluetooth-Incoming-Port\n",
      "  Description: n/a\n",
      "  HWID: n/a\n",
      "----------------------------------------\n",
      "Device: /dev/cu.usbserial-140\n",
      "  Description: USB <-> Serial\n",
      "  HWID: USB VID:PID=0403:6001 LOCATION=0-1.4\n",
      "----------------------------------------\n"
     ]
    }
   ],
   "source": [
    "import serial.tools.list_ports\n",
    "\n",
    "def list_serial_devices():\n",
    "    ports = serial.tools.list_ports.comports()\n",
    "    for port in ports:\n",
    "        print(f\"Device: {port.device}\")\n",
    "        print(f\"  Description: {port.description}\")\n",
    "        print(f\"  HWID: {port.hwid}\")\n",
    "        print(\"-\" * 40)\n",
    "\n",
    "if __name__ == \"__main__\":\n",
    "    print(\"Scanning USB serial devices...\")\n",
    "    list_serial_devices()\n"
   ]
  },
  {
   "cell_type": "code",
   "execution_count": null,
   "id": "ed4f67a4-2970-4510-85c3-ea71b84adf03",
   "metadata": {},
   "outputs": [],
   "source": []
  },
  {
   "cell_type": "markdown",
   "id": "7f34eb41-cb4a-4fbb-8c7c-36400dead6c4",
   "metadata": {},
   "source": [
    "### Closing Connection"
   ]
  },
  {
   "cell_type": "code",
   "execution_count": 5,
   "id": "25fe64dc-d831-4755-bd6a-86ad3fca758c",
   "metadata": {},
   "outputs": [],
   "source": [
    "await incubator.stop()"
   ]
  },
  {
   "cell_type": "code",
   "execution_count": null,
   "id": "b2e911c8-2729-494c-b5d0-516e527e072c",
   "metadata": {},
   "outputs": [],
   "source": []
  }
 ],
 "metadata": {
  "kernelspec": {
   "display_name": "Python 3 (ipykernel)",
   "language": "python",
   "name": "python3"
  },
  "language_info": {
   "codemirror_mode": {
    "name": "ipython",
    "version": 3
   },
   "file_extension": ".py",
   "mimetype": "text/x-python",
   "name": "python",
   "nbconvert_exporter": "python",
   "pygments_lexer": "ipython3",
   "version": "3.12.11"
  }
 },
 "nbformat": 4,
 "nbformat_minor": 5
}
