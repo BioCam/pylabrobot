{
 "cells": [
  {
   "cell_type": "markdown",
   "id": "01bd78dc-183e-45fe-a3b0-59c8666b4f14",
   "metadata": {},
   "source": [
    "# Inheco Incubator (Shaker)\n",
    "\n",
    "<table style=\"width:100%; border-collapse:collapse;\">\n",
    "<tr>\n",
    "<td style=\"width:60%; font-size:15px; line-height:1.7; vertical-align:top; padding-right:15px;\">\n",
    "\n",
    "<ul style=\"margin-top:0;\">\n",
    "  <li><a href=\"https://www.inheco.com/incubator-shaker.html\" target=\"_blank\"><b>OEM Link</b></a></li>\n",
    "  <li><b>Communication Protocol / Hardware:</b> Serial (FTDI) / USB-A</li>\n",
    "  <li><b>Communication Level:</b> Firmware (documentation shared by OEM)</li>\n",
    "  <li>Same command set for:\n",
    "    <ul>\n",
    "      <li>Incubator “MP”</li>\n",
    "      <li>Incubator “DWP”</li>\n",
    "      <li>Incubator Shaker “MP”</li>\n",
    "      <li>Incubator Shaker “DWP”</li>\n",
    "    </ul>\n",
    "  </li>\n",
    "  <li><b>Incubator Shaker “MP”</b> VID:PID <code>0403:6001</code></li>\n",
    "  <li>Takes in a single plate via a loading tray, heats it to the set temperature, and shakes it to the set RPM.</li>\n",
    "</ul>\n",
    "\n",
    "</td>\n",
    "\n",
    "<td style=\"width:40%; text-align:center; vertical-align:middle;\">\n",
    "  <img src=\"img/inheco_incubator_shaker_mp_dwp.png\" width=\"500\"/><br>\n",
    "  <i>Figure: Inheco Incubator Shaker MP & DWP models</i>\n",
    "</td>\n",
    "</tr>\n",
    "</table>"
   ]
  },
  {
   "cell_type": "markdown",
   "id": "70f74446-c274-4803-a6ce-6c9c2d7d3bba",
   "metadata": {},
   "source": [
    "## About the Machine(s)\n",
    "\n",
    "Inheco incubator shakers are modular machines used for plate storage, temperature control and shaking.\n",
    "They differentiate themselves:\n",
    "- **heater shakers** ... heat a material on which a plate is being placed; open-access; non-uniform temperature distribution around the plate; enables shaking of plate.\n",
    "- **incubator shakers** ... an enclosed chamber that is being heated and houses a plate; plate access is controlled via a loading tray and a door; *highly uniform temperature distribution around the plate*; enables shaking of plate.\n",
    "\n",
    "The Inheco incubator devices come in 4 versions, dependent on (1) whether they provide a shaking feature & (2) the size of plates they accept:\n",
    "\n",
    "\n",
    "| **RTS Code** | **Shaking Feature** | **Plate Format** | **Device Identifier** | **Typical Model** |\n",
    "|:-------------:|:--------------:|:----------------:|:----------------------|:------------------|\n",
    "| `0` | ❌ No | MP (Microplate) | `incubator_mp` | INHECO Incubator MP | \n",
    "| `1` | ✅ Yes | MP (Microplate) | `incubator_shaker_mp` | INHECO Incubator Shaker MP | \n",
    "| `2` | ❌ No | DWP (Deepwell Plate) | `incubator_dwp` | INHECO Incubator DWP | \n",
    "| `3` | ✅ Yes | DWP (Deepwell Plate) | `incubator_shaker_dwp` | INHECO Incubator Shaker DWP | \n",
    "\n",
    "\n",
    "```{note}\n",
    "Note: All 4 machines can be controlled with the same PyLabRobot Backend, called `InhecoIncubatorShakerBackend`!\n",
    "```"
   ]
  },
  {
   "cell_type": "markdown",
   "id": "42739583-9f29-4063-983d-18dcdfea61ba",
   "metadata": {},
   "source": [
    "---\n",
    "## Setup Instructions (Physical)"
   ]
  },
  {
   "cell_type": "markdown",
   "id": "95e39b36-c441-499d-bfaa-327d49d5cc04",
   "metadata": {},
   "source": [
    "<!-- ![quadrants](img/inheco_incubator_shaker_physical_setup_overview.png) -->\n",
    "<table style=\"width:100%; border-collapse:collapse; margin-top:10px;\">\n",
    "<tr>\n",
    "<td style=\"text-align:center; vertical-align:middle;\">\n",
    "  <img src=\"img/inheco_incubator_shaker_physical_setup_overview.png\" width=\"950\" style=\"border-radius:8px;\"/>\n",
    "  <br>\n",
    "  <i>Figure: Physical setup overview of the Inheco Incubator Shaker system</i>\n",
    "</td>\n",
    "</tr>\n",
    "</table>\n"
   ]
  },
  {
   "cell_type": "markdown",
   "id": "e0f0ef32-566b-4fa3-b358-db2a703957de",
   "metadata": {},
   "source": [
    "To facilitate integration, multiple devices can be placed on top of each other to form an Incubator Shaker Stack (see infographic above).\n",
    "Up to 6 machines can be placed into the same stack. \n",
    "When using more than 6 machines, you must build multiple stacks (none can contain more than 6 machines).\n",
    "The machines in a single stack can be of any of the 4 types.\n",
    "\n",
    "The benefit of this setup is that only **one** power cable and only **one** USB cable have to be plugged into the machine at the very bottom of a machine (i.e. stack index 0).\n",
    "Machines above the bottom one only need to be connected with the machine below it using the 15-pin SUB-D connectors that come with each machine when bought from Inheco.\n",
    "\n",
    "```{note}\n",
    "Note: In PyLabRobot, each machine is controlled via its own instance of the `InhecoIncubatorShakerBackend`.\n",
    "```"
   ]
  },
  {
   "cell_type": "markdown",
   "id": "40f8dcb4-7779-4c51-9bdf-bf8d05f46c46",
   "metadata": {},
   "source": [
    "<table>\n",
    "<tr>\n",
    "<td style=\"font-size:15px; line-height:1.6; width:60%; vertical-align:top; padding-right:10px;\">\n",
    "\n",
    "To connect an <code>InhecoIncubatorShakerBackend</code> there are two identifiers that uniquely characterise every physical machine:<br><br>\n",
    "\n",
    "<ol style=\"margin-left: 20px;\">\n",
    "<li><b>DIP switch identifier</b> — located on the back of the bottom machine; it defines the DIP switch configuration for the entire stack above it.<br>\n",
    "(<i>Note: You must set this DIP switch manually; see instructions below.</i>)</li>\n",
    "<li><b>Stack index number</b> — the position a machine occupies within its stack.<br>\n",
    "(<i>Note: This cannot be reassigned after connecting the stack unless the physical stack arrangement is changed.</i>)</li>\n",
    "</ol>\n",
    "\n",
    "<h3>Setting the DIP switch to generate a machine address</h3>\n",
    "\n",
    "The DIP switch at the back of each machine consists of 4 pins that can be set into an <code>UP</code> / <code>0</code> or a <code>DOWN</code> / <code>1</code> position.\n",
    "\n",
    "(<i>Note:</b> There are two more pins to the left of the DIP switch pins. They are not involved in setting the DIP switch address, and should be left in their <code>DOWN</code> position.</i>)</li>\n",
    "\n",
    "This represents <i>binary encoding</i>:\n",
    "<ul>\n",
    "<li>All pins at <code>0</code> → DIP switch is set to address <code>0</code></li>\n",
    "<li>All pins at <code>1</code> → DIP switch is set to address <code>15</code> (2<sup>4</sup>-1)</li>\n",
    "</ul>\n",
    "\n",
    "</td>\n",
    "\n",
    "<td style=\"width:40%; text-align:center; vertical-align:middle;\">\n",
    "<img src=\"img/inheco_incubator_shaker_dip_switch_addressing.png\" width=\"500\"/><br>\n",
    "<i>Figure: DIP switch layout to generate different identifiers/addresses</i>\n",
    "</td>\n",
    "</tr>\n",
    "\n",
    "</table>"
   ]
  },
  {
   "cell_type": "markdown",
   "id": "d0d6256e-673a-4979-88cc-d07959ce92ea",
   "metadata": {},
   "source": [
    "---\n",
    "## Setup Instructions (Programmatic)\n",
    "\n",
    "After the two cables have been connected to the bottom-most Inheco Incubator Shaker, you only have to instantiate the `InhecoIncubatorShakerBackend` and give it the correct `dip_switch_id` & `stack_index`.\n",
    "\n",
    "```{note}\n",
    "Before a connection has been established the incubator shaker's front LED blinks.\n",
    "After the connection has succesfully been made, the LED will continuously be on.\n",
    "```"
   ]
  },
  {
   "cell_type": "code",
   "execution_count": 1,
   "id": "c9acf6e1-2465-42fd-bad8-f6d3fc052e97",
   "metadata": {},
   "outputs": [],
   "source": [
    "from pylabrobot.storage.inheco import InhecoIncubatorShakerBackend\n",
    "\n",
    "import time\n",
    "import asyncio\n"
   ]
  },
  {
   "cell_type": "code",
   "execution_count": 2,
   "id": "fd27ffb9-85b7-4c2a-9cd9-218a59caa5e9",
   "metadata": {},
   "outputs": [
    {
     "name": "stdout",
     "output_type": "stream",
     "text": [
      "Connected to INHECO incubator_shaker_mp on /dev/cu.usbserial-130\n",
      "Machine serial number: 2013\n",
      "Firmware version: IncShak_C_V3.50_04/2012\n"
     ]
    }
   ],
   "source": [
    "iis_0 = incubator_shaker_0 = InhecoIncubatorShakerBackend(\n",
    "    dip_switch_id = 2,\n",
    "    stack_index = 0\n",
    ")\n",
    "\n",
    "await iis_0.setup(verbose=True)\n"
   ]
  },
  {
   "cell_type": "markdown",
   "id": "c2c7002f-a11b-402e-8100-5d9eb528a1f0",
   "metadata": {},
   "source": [
    "```{note}\n",
    "If you are interested in seeing information about the machine you are connecting to, you can set the `.setup()` optional argument `verbose` to `True`:\n",
    "1. type of Inheco Incubator\n",
    "2. the port used\n",
    "3. the machine's serial number\n",
    "4. the firmware version the machine runs on\n",
    "```"
   ]
  },
  {
   "cell_type": "code",
   "execution_count": 3,
   "id": "f5e4b85a-d9c5-4dcd-91dd-3d9c6b95bdbc",
   "metadata": {},
   "outputs": [],
   "source": [
    "import logging\n",
    "from pylabrobot.io import LOG_LEVEL_IO\n",
    "from datetime import datetime\n",
    "\n",
    "current_date = datetime.today().strftime('%Y-%m-%d')\n",
    "protocol_mode = \"execution\"\n",
    "\n",
    "# Create the shared file handler once\n",
    "fh = logging.FileHandler(f\"{current_date}_testing_{protocol_mode}.log\", mode=\"a\")\n",
    "fh.setLevel(LOG_LEVEL_IO)\n",
    "formatter = logging.Formatter(\n",
    "    \"%(asctime)s [%(levelname)s] %(name)s - %(message)s\"\n",
    ")\n",
    "fh.setFormatter(formatter)\n",
    "\n",
    "# Configure the main pylabrobot logger\n",
    "logger_plr = logging.getLogger(\"pylabrobot\")\n",
    "logger_plr.setLevel(LOG_LEVEL_IO)\n",
    "if not any(isinstance(h, logging.FileHandler) and h.baseFilename == fh.baseFilename\n",
    "           for h in logger_plr.handlers):\n",
    "    logger_plr.addHandler(fh)\n",
    "\n",
    "# Other loggers can reuse the same file handler\n",
    "logger_manager = logging.getLogger(\"manager\")\n",
    "logger_device = logging.getLogger(\"device\")\n",
    "\n",
    "for logger in [logger_manager, logger_device]:\n",
    "    logger.setLevel(logging.DEBUG)  # or logging.INFO\n",
    "    if not any(isinstance(h, logging.FileHandler) and h.baseFilename == fh.baseFilename\n",
    "               for h in logger.handlers):\n",
    "        logger.addHandler(fh)\n",
    "\n",
    "# START LOGGING\n",
    "logger_manager.info(\"START AUTOMATED PROTOCOL\")\n"
   ]
  },
  {
   "cell_type": "markdown",
   "id": "0a17aadb-8373-4e24-9678-7c4453fc8661",
   "metadata": {},
   "source": [
    "## Usage: 1 Stack - 1 Machine"
   ]
  },
  {
   "cell_type": "markdown",
   "id": "b2a56d2d-f00d-450d-b8e2-895c17b52bf8",
   "metadata": {},
   "source": [
    "### Sensing Plate Presence\n",
    "\n",
    "Inheco incubator shakers contain an internal, reflection-based plate sensor.\n",
    "This is very useful e.g. when someone has forgotten their plate in the incubator 👀"
   ]
  },
  {
   "cell_type": "code",
   "execution_count": 4,
   "id": "7642febc-5a5e-4e17-be6d-8a75fae7a1f4",
   "metadata": {
    "scrolled": true
   },
   "outputs": [
    {
     "data": {
      "text/plain": [
       "False"
      ]
     },
     "execution_count": 4,
     "metadata": {},
     "output_type": "execute_result"
    }
   ],
   "source": [
    "await iis_0.request_plate_in_incubator()\n"
   ]
  },
  {
   "cell_type": "markdown",
   "id": "a30de061-fc3f-434c-882e-4972c8404479",
   "metadata": {},
   "source": [
    "### Using Loading Tray"
   ]
  },
  {
   "cell_type": "code",
   "execution_count": 5,
   "id": "e6009273-a626-4de9-a9db-0f0de8021a0e",
   "metadata": {},
   "outputs": [],
   "source": [
    "await iis_0.open()\n"
   ]
  },
  {
   "cell_type": "code",
   "execution_count": 6,
   "id": "71514b7a-2d7a-469a-8ff1-1c2abc4e30df",
   "metadata": {},
   "outputs": [],
   "source": [
    "await iis_0.close()\n"
   ]
  },
  {
   "cell_type": "markdown",
   "id": "7d86ace1-7522-4630-ad10-6f4b944fbfc9",
   "metadata": {},
   "source": [
    "```{warning}\n",
    "**On parallelization of commands to machines in the same incubator shaker stack**\n",
    "\n",
    "Each machine in the same stack communicates via the same USB(-A to -B) cable.\n",
    "As a result, you cannot use parallelization (e.g. `aysyncio.gather()`) to communicate with machines in the same stack.\n",
    "\n",
    "This means you cannot open all incubator shakers in the same stack at the same time.\n",
    "\n",
    "However, if you arrange your Inheco Incubators into different stacks this should still be possible.\n",
    "```"
   ]
  },
  {
   "cell_type": "markdown",
   "id": "6aaef05a-2cb9-4b12-bf86-ae6d63665036",
   "metadata": {},
   "source": [
    "### Temperature Control"
   ]
  },
  {
   "cell_type": "code",
   "execution_count": 7,
   "id": "c8da2cf9-cbeb-4202-8ef7-2cc583ce16c4",
   "metadata": {},
   "outputs": [
    {
     "data": {
      "text/plain": [
       "21.0"
      ]
     },
     "execution_count": 7,
     "metadata": {},
     "output_type": "execute_result"
    }
   ],
   "source": [
    "# Show current temperature\n",
    "\n",
    "current_temp = await iis_0.get_temperature()\n",
    "\n",
    "current_temp\n"
   ]
  },
  {
   "cell_type": "code",
   "execution_count": 8,
   "id": "92fe00a9-9546-4d11-9a3c-c644188ea0c0",
   "metadata": {},
   "outputs": [],
   "source": [
    "# Time how long the machine takes to reach target temperature \n",
    "# using standard Python - no need to re-invent the wheel\n",
    "\n",
    "await iis_0.start_temperature_control(37)\n",
    "\n",
    "start_time = time.time()\n"
   ]
  },
  {
   "cell_type": "code",
   "execution_count": 9,
   "id": "b635baae-0cc9-4d10-8644-c377f94656b9",
   "metadata": {
    "scrolled": true
   },
   "outputs": [
    {
     "name": "stdout",
     "output_type": "stream",
     "text": [
      "21.1\n",
      "21.6\n",
      "22.5\n",
      "23.5\n",
      "24.4\n"
     ]
    }
   ],
   "source": [
    "# Quick check of how the temperature increases for 5 sec\n",
    "\n",
    "for x in range(5):\n",
    "    \n",
    "    current_temp = await iis_0.get_temperature(sensor=\"main\")\n",
    "    print(current_temp)\n",
    "\n",
    "    time.sleep(1)\n"
   ]
  },
  {
   "cell_type": "markdown",
   "id": "438e19d7-714d-46f3-8a9e-f00798ca9893",
   "metadata": {},
   "source": [
    "<table style=\"width:100%; border-collapse:collapse;\">\n",
    "  <tr>\n",
    "    <td style=\"width:60%; font-size:15px; line-height:1.7; vertical-align:top; padding-right:20px;\">\n",
    "      <p style=\"margin-top:0;\">The Inheco Incubator (Shaker) contains three independent temperature sensors:</p>\n",
    "      <ol style=\"margin-top:0; margin-bottom:10px; padding-left:20px;\">\n",
    "        <li>main sensor — close to the door/front, inside the machine</li>\n",
    "        <li>validation sensor — back, inside the machine</li>\n",
    "        <li>boost sensor — on heating foil, inside the machine</li>\n",
    "      </ol>\n",
    "      <p>\n",
    "        By default, <code>iis_0.get_temperature()</code>’s argument is set to\n",
    "        <code>sensor=\"main\"</code>.  \n",
    "        This can be changed to any of the following:\n",
    "      </p>\n",
    "      <ul style=\"margin-top:0; padding-left:20px;\">\n",
    "        <li><code>\"main\"</code></li>\n",
    "        <li><code>\"dif\"</code></li>\n",
    "        <li><code>\"boost\"</code></li>\n",
    "        <li><code>\"mean\"</code> — takes all three sensors’ measurements and returns their geometric mean</li>\n",
    "      </ul>\n",
    "    </td>\n",
    "    <td style=\"width:40%; text-align:center; vertical-align:middle;\">\n",
    "      <img src=\"img/inheco_incubator_shaker_t_sensor_positioning.png\"\n",
    "           alt=\"Inheco Incubator Shaker sensor positions\"\n",
    "           style=\"width:300px; border-radius:6px; margin-bottom:8px;\"/>\n",
    "      <br>\n",
    "      <i style=\"font-size:13px; color:#6c757d;\">\n",
    "        Figure: Inheco Incubator Shaker Temperature Sensor Positioning\n",
    "      </i>\n",
    "    </td>\n",
    "  </tr>\n",
    "</table>\n"
   ]
  },
  {
   "cell_type": "code",
   "execution_count": 10,
   "id": "8c5caa89-e5c5-49de-996f-a13cd790aa61",
   "metadata": {},
   "outputs": [
    {
     "name": "stdout",
     "output_type": "stream",
     "text": [
      "Waiting for target temperature 37.00 °C...\n",
      "\n",
      "[███████████████████████████████████████-] 36.87 °C (Δ=0.13 °C, target=37.00 °C))\n",
      "✅ Target temperature reached.\n",
      "36.87 ℃, 35.7 sec\n"
     ]
    }
   ],
   "source": [
    "# Wait until target temperature has been reach\n",
    "\n",
    "temp_reached = await iis_0.wait_for_temperature(sensor = \"mean\", show_progress_bar = True)\n",
    "\n",
    "elapsed_time = time.time() - start_time\n",
    "\n",
    "print(f\"{temp_reached} ℃, {round(elapsed_time, 1)} sec\")\n"
   ]
  },
  {
   "cell_type": "code",
   "execution_count": 11,
   "id": "88e17cd9-de42-4f6e-9db0-b74ad74e4a85",
   "metadata": {},
   "outputs": [],
   "source": [
    "# Simple stopping of temperature control without stopping the machine itself\n",
    "\n",
    "await iis_0.stop_temperature_control()\n"
   ]
  },
  {
   "cell_type": "markdown",
   "id": "58c0aa31-9b6b-426f-a038-cdb80614c005",
   "metadata": {},
   "source": [
    "### Shaking Control\n",
    "\n",
    "Only Incubator \"Shakers\" can use shaking commands.\n",
    "\n",
    "During `.setup()` the machine will check whether it is an `incubator_shaker` (\"MP\" or \"DWP\") and the Python backend only allows shaking commands being sent to the machine if it is an `incubator_shaker`."
   ]
  },
  {
   "cell_type": "code",
   "execution_count": 12,
   "id": "fdac2882-59c2-4531-a115-97a644765476",
   "metadata": {},
   "outputs": [],
   "source": [
    "# Simplest usage\n",
    "\n",
    "await iis_0.shake(rpm=800)\n",
    "\n",
    "await asyncio.sleep(5)\n",
    "\n",
    "await iis_0.stop_shaking()\n"
   ]
  },
  {
   "cell_type": "markdown",
   "id": "fc1da4bf-452e-4ead-bd8a-64d219449a64",
   "metadata": {},
   "source": [
    "Inheco incubator shakers support precise, programmable motion in both the **X** and **Y** axes.\n",
    "The resulting shaking pattern is defined by five parameters:\n",
    "\n",
    "- **Amplitude in X** (`Aₓ`, 0–3 mm)\n",
    "- **Amplitude in Y** (`Aᵧ`, 0–3 mm)\n",
    "- **Frequency in X** (`fₓ`, 6.6–30.0 Hz)\n",
    "- **Frequency in Y** (`fᵧ`, 6.6–30.0 Hz)\n",
    "- **Phase shift** (`φ`, the angular offset between X and Y motion, in degrees)\n",
    "\n",
    "Different combinations of these parameters produce circular, linear, elliptical, or\n",
    "figure-eight movement paths.\n",
    "\n",
    "---\n",
    "\n",
    "#### Predefined Shaking Patterns in PyLabRobot\n",
    "\n",
    "To simplify configuration, PyLabRobot provides predefined motion presets that map common use cases to specific parameter combinations:\n",
    "\n",
    "| Pattern | Description | Parameter relationship | Required speed attribute |\n",
    "|----------|--------------|------------------------|---------------------------|\n",
    "| `orbital` | Circular shaking | `Aₓ = Aᵧ`, `φ = 90°`, `fₓ = fᵧ` | `rpm` |\n",
    "| `elliptical` | Elliptical motion | `Aₓ ≠ Aᵧ`, `φ = 90°`, `fₓ = fᵧ` | `rpm` |\n",
    "| `figure_eight` | Figure-eight (Lissajous) motion | `Aₓ ≈ Aᵧ`, `φ = 90°`, `fᵧ = 2 fₓ` | `rpm` |\n",
    "| `linear_x` | Linear motion along X | `Aᵧ = 0` | `frequency_hz` |\n",
    "| `linear_y` | Linear motion along Y | `Aₓ = 0` | `frequency_hz` |\n",
    "\n",
    "```{note}\n",
    "The default behaviour of `.shake()` uses...\n",
    "- an orbital shaking pattern,\n",
    "- x amplitude = 3 mm,\n",
    "- y amplitude = 3 mm.\n",
    "\n",
    "(see “Simplest usage” example above)\n"
   ]
  },
  {
   "cell_type": "code",
   "execution_count": 15,
   "id": "21ef6992-fdd2-47f7-b739-0de4cb1022e0",
   "metadata": {},
   "outputs": [],
   "source": [
    "# Orbital shaking example with modified amplitudes\n",
    "\n",
    "await iis_0.shake(\n",
    "    pattern=\"orbital\",\n",
    "    rpm=800,\n",
    "    amplitude_x_mm=2.0,\n",
    "    amplitude_y_mm=2.0\n",
    ")\n",
    "\n",
    "await asyncio.sleep(5)\n",
    "\n",
    "await iis_0.stop_shaking()\n"
   ]
  },
  {
   "cell_type": "code",
   "execution_count": 16,
   "id": "8b6d28a3-6c02-47cd-a5e0-1e01cc35e4d0",
   "metadata": {},
   "outputs": [],
   "source": [
    "# Elliptical shaking example with modified amplitudes\n",
    "\n",
    "await iis_0.shake(\n",
    "    pattern=\"elliptical\",\n",
    "    rpm=800,\n",
    "    amplitude_x_mm=2.5,\n",
    "    amplitude_y_mm=2.5\n",
    ")\n",
    "\n",
    "await asyncio.sleep(5)\n",
    "\n",
    "await iis_0.stop_shaking()\n"
   ]
  },
  {
   "cell_type": "code",
   "execution_count": 17,
   "id": "bd1b713c-0c1f-4e6c-81b0-88cee4ba8719",
   "metadata": {},
   "outputs": [],
   "source": [
    "# Figure-eight shaking example\n",
    "\n",
    "await iis_0.shake(\n",
    "    pattern=\"figure_eight\",\n",
    "    rpm=400,\n",
    ")\n",
    "\n",
    "await asyncio.sleep(5)\n",
    "\n",
    "await iis_0.stop_shaking()\n"
   ]
  },
  {
   "cell_type": "markdown",
   "id": "9eb382d9-3432-4d0e-9514-02f25eb7ef68",
   "metadata": {},
   "source": [
    "If you feel adventorous, see the math that goes into the calculation of different shaking patterns here:"
   ]
  },
  {
   "cell_type": "markdown",
   "id": "97014c29-c023-4259-aa3f-1b7fa85c9c24",
   "metadata": {},
   "source": [
    "<details>\n",
    "<summary><b>📘 How PyLabRobot Implements Inheco Shaking Patterns (Mathematical Overview)</b></summary>\n",
    "\n",
    "INHECO incubator shakers move a plate by oscillating the platform in two directions — **X** and **Y** — at programmable amplitudes, frequencies, and phase offsets.\n",
    "\n",
    "---\n",
    "\n",
    "**The Core Equations**\n",
    "\n",
    "The motion of the platform is described by two sinusoidal functions:\n",
    "\n",
    "\\[\n",
    "\\begin{aligned}\n",
    "x(t) &= Aₓ \\sin(2\\pi fₓ t) \\\\\n",
    "y(t) &= Aᵧ \\sin(2\\pi fᵧ t + φ)\n",
    "\\end{aligned}\n",
    "\\]\n",
    "\n",
    "Where:\n",
    "\n",
    "| Symbol | Meaning | Example |\n",
    "|:--|:--|:--|\n",
    "| `Aₓ`, `Aᵧ` | Amplitudes (mm) — how far the plate moves in X and Y | 2.5 mm |\n",
    "| `fₓ`, `fᵧ` | Frequencies (Hz) — how fast each axis oscillates | 10 Hz, 20 Hz |\n",
    "| `φ` | Phase shift (°) — timing offset between X and Y | 0°, 90°, 180° |\n",
    "\n",
    "Each axis moves smoothly back and forth like a spring.  \n",
    "When these two motions combine, they trace elegant paths such as circles, ellipses, or figure-eights.\n",
    "\n",
    "---\n",
    "\n",
    "**Pattern Intuition**\n",
    "\n",
    "Different shaking patterns are created by adjusting the relationships between these parameters:\n",
    "\n",
    "| Pattern | Conditions | Description |\n",
    "|:--|:--|:--|\n",
    "| **Linear X** | `Aᵧ = 0` | Motion only along X (back-and-forth line) |\n",
    "| **Linear Y** | `Aₓ = 0` | Motion only along Y |\n",
    "| **Orbital** | `Aₓ = Aᵧ`, `fₓ = fᵧ`, `φ = 90°` | Perfect circular motion |\n",
    "| **Elliptical** | `Aₓ ≠ Aᵧ`, `fₓ = fᵧ`, `φ = 90°` | Elongated circle (ellipse) |\n",
    "| **Figure-Eight (Lissajous)** | `Aₓ ≈ Aᵧ`, `fᵧ = 2 fₓ`, `φ = 90°` | Double-loop path shaped like ∞ |\n",
    "\n",
    "---\n",
    "\n",
    "**Example: Figure-Eight Motion**\n",
    "\n",
    "In firmware terms:\n",
    "\n",
    "SSP20,20,100,200,90\n",
    "ASE1\n",
    "\n",
    "\n",
    "corresponds to:\n",
    "\n",
    "- `Aₓ = Aᵧ = 2.0 mm`\n",
    "- `fₓ = 10.0 Hz`\n",
    "- `fᵧ = 20.0 Hz`\n",
    "- `φ = 90°`\n",
    "\n",
    "This combination makes the platform’s Y motion twice as fast as its X motion —  \n",
    "the resulting path is a **Lissajous figure**, visually resembling a “figure-8”.\n",
    "\n",
    "---\n",
    "\n",
    "**Why This Matters**\n",
    "\n",
    "By controlling these parameters precisely:\n",
    "- The **mixing efficiency** can be tuned to the liquid’s viscosity.\n",
    "- The **path geometry** affects shear stress and aeration.\n",
    "- **Repeatable motion profiles** ensure reproducibility across runs.\n",
    "\n",
    "Understanding this relationship helps you select the right pattern\n",
    "(`orbital`, `elliptical`, `figure_eight`, etc.) for your experiment.\n",
    "\n",
    "</details>\n",
    "\n"
   ]
  },
  {
   "cell_type": "markdown",
   "id": "e9c95159-484c-4a21-9cdb-43c4ee017bbe",
   "metadata": {},
   "source": [
    "---\n",
    "## Usage: 1 Stack - Multiple Machine\n",
    "\n",
    "If more than one machine is used in an Inheco Incubator Shaker \"stack\", all will use the same serial port.\n",
    "\n",
    "Machines are then distinguished via the `stack_index` attribute given to `InhecoIncubatorShakerBackend` during instantiation:"
   ]
  },
  {
   "cell_type": "code",
   "execution_count": 18,
   "id": "edb4d304-b61f-48df-87df-0a8b39d31ccf",
   "metadata": {},
   "outputs": [
    {
     "name": "stdout",
     "output_type": "stream",
     "text": [
      "Connected to INHECO incubator_shaker_dwp on /dev/cu.usbserial-130\n",
      "Machine serial number: 977\n",
      "Firmware version: IncShak_C_V3.50_04/2012\n"
     ]
    }
   ],
   "source": [
    "iis_1 = inheco_incubator_shaker_1 = InhecoIncubatorShakerBackend(\n",
    "    dip_switch_id = 2,\n",
    "    stack_index = 1\n",
    ")\n",
    "\n",
    "await iis_1.setup(verbose=True)\n"
   ]
  },
  {
   "cell_type": "code",
   "execution_count": 19,
   "id": "2f2b5294-02aa-4966-ba62-ae7d2182c037",
   "metadata": {},
   "outputs": [],
   "source": [
    "await iis_1.open()\n"
   ]
  },
  {
   "cell_type": "code",
   "execution_count": 20,
   "id": "7f489ca4-811f-478c-8967-63dcc578cbd8",
   "metadata": {},
   "outputs": [],
   "source": [
    "await iis_1.close()\n"
   ]
  },
  {
   "cell_type": "code",
   "execution_count": 21,
   "id": "9016a568-3e26-4041-95cf-149d6fbe9bd6",
   "metadata": {},
   "outputs": [
    {
     "name": "stdout",
     "output_type": "stream",
     "text": [
      "Waiting for target temperature 37.00 °C...\n",
      "\n",
      "[███████████████████████████████████████-] 36.87 °C (Δ=0.13 °C, target=37.00 °C)\n",
      "✅ Target temperature reached.\n",
      "Waiting for target temperature 29.00 °C...\n",
      "\n",
      "[█████████████---------------------------] 29.20 °C (Δ=0.20 °C, target=29.00 °C)\n",
      "✅ Target temperature reached.\n"
     ]
    }
   ],
   "source": [
    "# Parallelize shaking of different incubators with different shaking conditions\n",
    "# did someone say \"Design of Experiments\" 👀📊\n",
    "\n",
    "await iis_0.start_temperature_control(37)\n",
    "await iis_1.start_temperature_control(29)\n",
    "\n",
    "await iis_0.wait_for_temperature(sensor = \"mean\", show_progress_bar = True)\n",
    "await iis_1.wait_for_temperature(sensor = \"mean\", show_progress_bar = True)\n",
    "\n",
    "\n",
    "await iis_0.shake(\n",
    "    pattern=\"orbital\",\n",
    "    rpm=500,\n",
    ")\n",
    "\n",
    "await iis_1.shake(\n",
    "    pattern=\"figure_eight\",\n",
    "    rpm=800,\n",
    ")\n",
    "\n",
    "await asyncio.sleep(10)\n",
    "\n",
    "await iis_0.stop_temperature_control()\n",
    "await iis_1.stop_temperature_control()\n",
    "\n",
    "await iis_0.stop_shaking()\n",
    "await iis_1.stop_shaking()\n"
   ]
  },
  {
   "cell_type": "markdown",
   "id": "509f8bc7-9e9c-4250-b854-b2a0c8ded9e8",
   "metadata": {},
   "source": [
    "```{note}\n",
    "If you develop a small script that you find yourself re-using and that goes beyond the simple \"hello world, inheco incubator shaker\"-style examples here, please consider contributing it back to the PyLabRobot community as a Cookbook Recipe.\n",
    "```"
   ]
  },
  {
   "cell_type": "markdown",
   "id": "98db023d-d081-4bce-be7e-466735b439c7",
   "metadata": {},
   "source": [
    "---\n",
    "## Usage: Multiple Stack - Multiple Machine\n",
    "\n",
    "To connect another stack with its own machines, simply instantiate the new `InhecoIncubatorShakerBackend`s using the correct DIP switch identifier/address.\n",
    "\n",
    "(set on the back of the bottom-most machine):\n"
   ]
  },
  {
   "cell_type": "code",
   "execution_count": 22,
   "id": "1f7a4e50-9888-4327-8de1-097fe523590a",
   "metadata": {},
   "outputs": [],
   "source": [
    "# commented out because original implementation had only 2 machines at their disposal\n",
    "\n",
    "# iis_2 = inheco_incubator_shaker_2 = InhecoIncubatorShakerBackend(\n",
    "#     dip_switch_id = 3,\n",
    "#     stack_index = 0\n",
    "# )\n",
    "\n",
    "# await iis_2.setup(verbose=True)\n",
    "\n",
    "# iis_3 = inheco_incubator_shaker_3 = InhecoIncubatorShakerBackend(\n",
    "#     dip_switch_id = 3,\n",
    "#     stack_index = 1\n",
    "# )\n",
    "\n",
    "# await iis_3.setup(verbose=True)\n"
   ]
  },
  {
   "cell_type": "markdown",
   "id": "7f34eb41-cb4a-4fbb-8c7c-36400dead6c4",
   "metadata": {},
   "source": [
    "### Closing Connection\n",
    "\n",
    "Standard PyLabRobot way of closing the communication connection."
   ]
  },
  {
   "cell_type": "code",
   "execution_count": 23,
   "id": "25fe64dc-d831-4755-bd6a-86ad3fca758c",
   "metadata": {},
   "outputs": [],
   "source": [
    "await iis_0.stop(); await iis_1.stop()\n"
   ]
  }
 ],
 "metadata": {
  "kernelspec": {
   "display_name": "Python 3 (ipykernel)",
   "language": "python",
   "name": "python3"
  },
  "language_info": {
   "codemirror_mode": {
    "name": "ipython",
    "version": 3
   },
   "file_extension": ".py",
   "mimetype": "text/x-python",
   "name": "python",
   "nbconvert_exporter": "python",
   "pygments_lexer": "ipython3",
   "version": "3.12.11"
  }
 },
 "nbformat": 4,
 "nbformat_minor": 5
}
