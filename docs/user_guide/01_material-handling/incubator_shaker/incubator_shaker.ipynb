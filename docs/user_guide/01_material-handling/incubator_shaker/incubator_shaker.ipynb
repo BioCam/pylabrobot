{
 "cells": [
  {
   "cell_type": "markdown",
   "id": "01bd78dc-183e-45fe-a3b0-59c8666b4f14",
   "metadata": {},
   "source": [
    "# Hello World, Inheco Incubator (Shaker)\n",
    "\n",
    "This notebook provides a minimal working example to connect to and interact with an INHECO Incubator Shaker over a USB serial connection. It demonstrates how to initialize communication, issue basic commands, and interpret the device’s responses.\n",
    "\n",
    "## About the Device and Setup\n",
    "\n",
    "INHECO incubator shakers are modular devices used for temperature control and agitation in lab automation setups. Multiple devices can be connected in a stack via USB, each assigned a **device ID** and **subdevice number** (usually 0–5). Commands are sent via a serial protocol and must be carefully constructed with CRC checks and timeouts.\n",
    "\n",
    "Ensure:\n",
    "- The correct **serial port** is selected (e.g., `/dev/cu.usbserial-140` on macOS).\n",
    "- You know the **device ID** for the incubator you're communicating with.\n",
    "- Only one command is sent at a time — the device cannot queue or process multiple requests concurrently.\n",
    "\n",
    "## Command Types\n",
    "\n",
    "There are three classes of commands:\n",
    "\n",
    "**Report Commands**\n",
    "\n",
    "Used to **query** the device’s state or configuration. These include:\n",
    "- `RFV0`: Read firmware version  \n",
    "- `RFV2`: Read serial number  \n",
    "- `RATx`: Read actual temperature (for subdevice `x`)\n",
    "\n",
    "They return a string payload enclosed between header and terminator bytes.\n",
    "\n",
    "**Set Commands**\n",
    "\n",
    "Used to **configure** parameters or states. For example:\n",
    "- `SCT020`: Set control temperature to 20°C  \n",
    "- `SST1`: Set shaking speed to 1 Hz  \n",
    "\n",
    "A successful response consists only of an acknowledgement terminator (`0x20 0x60`).\n",
    "\n",
    "**Action Commands**\n",
    "\n",
    "Used to **trigger actions**. Examples include:\n",
    "- `AID`: Initialize device  \n",
    "- `AOD`: Open lid  \n",
    "- `ACD`: Close lid  \n",
    "\n",
    "These may respond more slowly (up to 5 seconds), especially when mechanical motion is involved.\n",
    "\n",
    "---\n",
    "\n",
    "The notebook will walk through:\n",
    "- Connecting to the device\n",
    "- Reading firmware and serial number\n",
    "- Opening and closing the lid\n",
    "- Reading temperatures from subdevices\n",
    "\n",
    "> 📌 This is an essential step for integrating INHECO hardware into larger lab automation workflows.\n"
   ]
  },
  {
   "cell_type": "code",
   "execution_count": null,
   "id": "c3d4238d-7f5f-46da-8aae-c411e422f6b3",
   "metadata": {},
   "outputs": [],
   "source": []
  },
  {
   "cell_type": "markdown",
   "id": "42739583-9f29-4063-983d-18dcdfea61ba",
   "metadata": {},
   "source": [
    "## Setup (Physical)"
   ]
  },
  {
   "cell_type": "code",
   "execution_count": null,
   "id": "17b34c97-1eed-41cf-8145-fa0c1aeec6f0",
   "metadata": {},
   "outputs": [],
   "source": []
  },
  {
   "cell_type": "code",
   "execution_count": null,
   "id": "417cb6a7-7833-4894-9f1a-1777c9b44f61",
   "metadata": {},
   "outputs": [],
   "source": []
  },
  {
   "cell_type": "code",
   "execution_count": 1,
   "id": "12983f01-2a70-42c4-88f7-1af353b755a0",
   "metadata": {},
   "outputs": [],
   "source": [
    "import asyncio\n",
    "import serial\n",
    "import logging\n",
    "import time\n",
    "import threading\n",
    "from typing import Optional, List\n",
    "\n",
    "\n",
    "class InhecoTask:\n",
    "    def __init__(self, fut: asyncio.Future, cmd: str, timeout_time: float):\n",
    "        self.fut = fut\n",
    "        self.cmd = cmd\n",
    "        self.timeout_time = timeout_time\n",
    "\n",
    "\n",
    "class InhecoIncubatorShakerBackend:\n",
    "\n",
    "    def __init__(self, port: str, device_id: int = 2):\n",
    "        self.port = port\n",
    "        self.device_id = device_id\n",
    "        self.logger = logging.getLogger(__name__)\n",
    "        self.ser = None\n",
    "        self.write_timeout = 2.0\n",
    "        self.read_timeout = 5.0\n",
    "        self._waiting_tasks: List[InhecoTask] = []\n",
    "        self._reading_thread: Optional[threading.Thread] = None\n",
    "        self._reading_active = False\n",
    "\n",
    "    async def setup(self):\n",
    "        self.ser = serial.Serial(\n",
    "            port=self.port,\n",
    "            baudrate=19200,\n",
    "            bytesize=serial.EIGHTBITS,\n",
    "            parity=serial.PARITY_NONE,\n",
    "            stopbits=serial.STOPBITS_ONE,\n",
    "            timeout=0\n",
    "        )\n",
    "        self.ser.write_timeout = self.write_timeout\n",
    "\n",
    "        fw_version = await self.read_firmware_version(subdevice=0)\n",
    "        print(\n",
    "            f\"Connected to INHECO Incubator on {self.port}\\n\"\n",
    "            f\"Inheco Incubator firmware version: {fw_version}\"\n",
    "        )\n",
    "        self.logger.info(\n",
    "            f\"Connected to INHECO Incubator on {self.port}\\n\"\n",
    "            f\"Inheco Incubator firmware version: {fw_version}\"\n",
    "        )\n",
    "        await self.initialize(subdevice=0)\n",
    "\n",
    "    async def stop(self):\n",
    "        if self.ser and self.ser.is_open:\n",
    "            self.ser.close()\n",
    "            self.logger.info(\"Disconnected from INHECO Incubator Shaker\")\n",
    "        self._reading_active = False\n",
    "        self._waiting_tasks.clear()\n",
    "\n",
    "    async def write(self, data: bytes):\n",
    "        self.logger.debug(f\"-> {data.hex()}\")\n",
    "        self.ser.write(data)\n",
    "\n",
    "    async def _read_response(self, timeout: Optional[float] = None) -> bytes:\n",
    "        timeout = timeout or self.read_timeout\n",
    "        fut: asyncio.Future = asyncio.get_event_loop().create_future()\n",
    "        self._start_reading(fut, timeout=timeout)\n",
    "        return await fut\n",
    "\n",
    "    def _start_reading(self, fut: asyncio.Future, timeout: float):\n",
    "        timeout_time = time.time() + timeout\n",
    "        self._waiting_tasks.append(InhecoTask(fut=fut, cmd=\"\", timeout_time=timeout_time))\n",
    "\n",
    "        if not self._reading_active:\n",
    "            self._reading_active = True\n",
    "            self._reading_thread = threading.Thread(target=self._reading_loop, daemon=True)\n",
    "            self._reading_thread.start()\n",
    "\n",
    "    def _reading_loop(self):\n",
    "        while self._waiting_tasks:\n",
    "            now = time.time()\n",
    "            for i in range(len(self._waiting_tasks) - 1, -1, -1):\n",
    "                task = self._waiting_tasks[i]\n",
    "                if now > task.timeout_time:\n",
    "                    task.fut.get_loop().call_soon_threadsafe(\n",
    "                        task.fut.set_exception,\n",
    "                        TimeoutError(\"Timed out waiting for response\")\n",
    "                    )\n",
    "                    del self._waiting_tasks[i]\n",
    "                    continue\n",
    "\n",
    "            if self.ser.in_waiting:\n",
    "                data = self.ser.read(100)\n",
    "                if data:\n",
    "                    self.logger.debug(f\"<- {data}\")\n",
    "                    if data.endswith(b\"\\x20\\x60\"):\n",
    "                        for task in self._waiting_tasks:\n",
    "                            task.fut.get_loop().call_soon_threadsafe(task.fut.set_result, data)\n",
    "                        self._waiting_tasks.clear()\n",
    "            time.sleep(0.01)\n",
    "\n",
    "        self._reading_active = False\n",
    "\n",
    "    def _crc8(self, data: bytearray) -> int:\n",
    "        crc = 0xA1\n",
    "        for byte in data:\n",
    "            d = byte\n",
    "            for _ in range(8):\n",
    "                if ((d ^ crc) & 1):\n",
    "                    crc ^= 0x18\n",
    "                    crc >>= 1\n",
    "                    crc |= 0x80\n",
    "                else:\n",
    "                    crc >>= 1\n",
    "                d >>= 1\n",
    "        return crc & 0xFF\n",
    "\n",
    "    def _build_message(self, command: str, subdevice: int = 0) -> bytes:\n",
    "        if not (0 <= subdevice <= 5):\n",
    "            raise ValueError(\"Subdevice must be between 0 and 5\")\n",
    "        full_command = f\"T0{subdevice}{command}\"\n",
    "        cmd = full_command.encode(\"ascii\")\n",
    "        length = len(cmd) + 3\n",
    "        address = 0x30 + self.device_id\n",
    "        proto = 0xC0 + len(cmd)\n",
    "        message = bytearray([length, address, proto]) + cmd\n",
    "        crc = self._crc8(message)\n",
    "        return bytes(message + bytearray([crc]))\n",
    "\n",
    "    def _is_report_command(self, command: str) -> bool:\n",
    "        return command.upper().startswith(\"R\")\n",
    "\n",
    "    def _parse_response_bytes(self, response: bytes) -> str:\n",
    "        if len(response) < 4:\n",
    "            raise ValueError(f\"Response too short: {response}\")\n",
    "    \n",
    "        expected_header = 0x30 + self.device_id + 0x80  # 0xB0 + device_id\n",
    "        expected_tail = b\"\\x20\\x60\"\n",
    "    \n",
    "        if response[0] != expected_header:\n",
    "            raise ValueError(f\"Unexpected response header: {response[0]:02x} != {expected_header:02x}\")\n",
    "        if not response.endswith(expected_tail):\n",
    "            raise ValueError(f\"Unexpected response terminator: {response[-2:]}\")\n",
    "    \n",
    "        # Strip first header byte and final two bytes (status and terminator)\n",
    "        core = response[1:-2]\n",
    "    \n",
    "        # Remove all internal 0xB0 + device_id headers if they exist\n",
    "        core = core.replace(bytes([expected_header]), b'')\n",
    "    \n",
    "        try:\n",
    "            return core.decode(\"ascii\").strip()\n",
    "        except UnicodeDecodeError as e:\n",
    "            # Fall back to error-tolerant decode\n",
    "            cleaned = core.decode(\"ascii\", errors=\"ignore\").strip()\n",
    "            self.logger.warning(f\"Non-ASCII bytes stripped from payload: {core!r}\")\n",
    "            return cleaned\n",
    "\n",
    "\n",
    "\n",
    "    async def send_command(self, command: str, subdevice: int = 0, delay: float = 0.2,\n",
    "                           read_timeout: Optional[float] = None) -> str:\n",
    "        msg = self._build_message(command, subdevice=subdevice)\n",
    "        await self.write(msg)\n",
    "        await asyncio.sleep(delay)\n",
    "        response = await self._read_response(timeout=read_timeout)\n",
    "        if not response:\n",
    "            raise TimeoutError(f\"No response from device for command: {command}\")\n",
    "        try:\n",
    "            if self._is_report_command(command):\n",
    "                return self._parse_response_bytes(response)\n",
    "            else:\n",
    "                self._validate_acknowledgement(response)\n",
    "                return \"\"\n",
    "        except Exception as e:\n",
    "            self.logger.error(f\"Error parsing response to {command}: {e}\")\n",
    "            raise\n",
    "\n",
    "    def _validate_acknowledgement(self, response: bytes):\n",
    "        if len(response) < 2:\n",
    "            raise ValueError(f\"Acknowledgement too short: {response}\")\n",
    "        if not response.endswith(b\"\\x20\\x60\"):\n",
    "            raise ValueError(f\"Unexpected acknowledgement terminator: {response[-2:]}\")\n",
    "\n",
    "    # === Public API ===\n",
    "    async def read_firmware_version(self, subdevice: int = 0):\n",
    "        return await self.send_command(\"RFV0\", subdevice=subdevice)\n",
    "\n",
    "    async def read_serial_number(self, subdevice: int = 0):\n",
    "        return await self.send_command(\"RFV2\", subdevice=subdevice)\n",
    "\n",
    "    async def initialize(self, subdevice: int = 0):\n",
    "        return await self.send_command(\"AID\", subdevice=subdevice)\n",
    "\n",
    "    async def open_lid(self, subdevice: int = 0):\n",
    "        return await self.send_command(\"AOD\", subdevice=subdevice)\n",
    "\n",
    "    async def close_lid(self, subdevice: int = 0):\n",
    "        return await self.send_command(\"ACD\", subdevice=subdevice)\n"
   ]
  },
  {
   "cell_type": "markdown",
   "id": "d0d6256e-673a-4979-88cc-d07959ce92ea",
   "metadata": {},
   "source": [
    "## Setup (Programmatic)"
   ]
  },
  {
   "cell_type": "code",
   "execution_count": 2,
   "id": "edc48ca2-a84c-4ffc-b750-e9ff4db605f0",
   "metadata": {},
   "outputs": [
    {
     "name": "stdout",
     "output_type": "stream",
     "text": [
      "Connected to INHECO Incubator on /dev/cu.usbserial-140\n",
      "Inheco Incubator firmware version: IncShak_C_V3.50_04/2012\n"
     ]
    }
   ],
   "source": [
    "incubator = InhecoIncubatorShakerBackend(\"/dev/cu.usbserial-140\", device_id=2)\n",
    "await incubator.setup()"
   ]
  },
  {
   "cell_type": "code",
   "execution_count": null,
   "id": "7f3a5b82-8fd1-4cda-859a-dc030b1af115",
   "metadata": {},
   "outputs": [],
   "source": []
  },
  {
   "cell_type": "markdown",
   "id": "e9c95159-484c-4a21-9cdb-43c4ee017bbe",
   "metadata": {},
   "source": [
    "## Usage\n",
    "\n",
    "### Testing & Investigation"
   ]
  },
  {
   "cell_type": "code",
   "execution_count": null,
   "id": "6cb1d79b-bee9-463a-b1ec-8f688a04f72b",
   "metadata": {},
   "outputs": [],
   "source": []
  },
  {
   "cell_type": "code",
   "execution_count": 3,
   "id": "e02b4c34-6f8a-4ee4-a264-dbe4397f5fa5",
   "metadata": {},
   "outputs": [
    {
     "data": {
      "text/plain": [
       "'IncShak_C_V3.50_04/2012'"
      ]
     },
     "execution_count": 3,
     "metadata": {},
     "output_type": "execute_result"
    }
   ],
   "source": [
    "await incubator.read_firmware_version(subdevice=0)"
   ]
  },
  {
   "cell_type": "code",
   "execution_count": 4,
   "id": "65ca6226-0d73-410d-9e09-c05edb797b67",
   "metadata": {},
   "outputs": [
    {
     "data": {
      "text/plain": [
       "'0'"
      ]
     },
     "execution_count": 4,
     "metadata": {},
     "output_type": "execute_result"
    }
   ],
   "source": [
    "await incubator.send_command(\"REE\")\n",
    "\n",
    "# Reports the status of the initialisation of the device and the status of the Lab-Ware detection\n",
    "# if\n",
    "# 0 Device initialised\n",
    "# 1 Device not initialised\n",
    "# 2 Lab-Ware status unknown\n",
    "# 3 Device not initialised and Lab-Ware status unknow"
   ]
  },
  {
   "cell_type": "code",
   "execution_count": 5,
   "id": "77d3d7fe-b5a1-4550-b621-d1d8799b67c9",
   "metadata": {},
   "outputs": [
    {
     "data": {
      "text/plain": [
       "'2015-07-01,QS'"
      ]
     },
     "execution_count": 5,
     "metadata": {},
     "output_type": "execute_result"
    }
   ],
   "source": [
    "await incubator.send_command(\"RCM\")\n",
    "\n",
    "# Reports the date and an alphanumeric string (e.g. operator) of the last calibration for the device.\n",
    "# The Data is reported in the Format YYYY-MM-DD,xxxxx (Example: 2005-09-28,xxxxx).\n",
    "# The five xs are alphanumeric wildcards."
   ]
  },
  {
   "cell_type": "raw",
   "id": "e77a1c58-4e75-4984-9857-632661125be1",
   "metadata": {},
   "source": [
    "await incubator.send_command(\"AQS\", read_timeout=360)\n"
   ]
  },
  {
   "cell_type": "code",
   "execution_count": null,
   "id": "f5c75900-60c1-4efa-bd4f-483496f8f354",
   "metadata": {},
   "outputs": [],
   "source": []
  },
  {
   "cell_type": "markdown",
   "id": "a30de061-fc3f-434c-882e-4972c8404479",
   "metadata": {},
   "source": [
    "### Loading Drawer"
   ]
  },
  {
   "cell_type": "code",
   "execution_count": 6,
   "id": "e6009273-a626-4de9-a9db-0f0de8021a0e",
   "metadata": {},
   "outputs": [
    {
     "data": {
      "text/plain": [
       "''"
      ]
     },
     "execution_count": 6,
     "metadata": {},
     "output_type": "execute_result"
    }
   ],
   "source": [
    "await incubator.open_lid()\n",
    "# await asyncio.sleep(5)\n",
    "await incubator.close_lid()"
   ]
  },
  {
   "cell_type": "code",
   "execution_count": null,
   "id": "71514b7a-2d7a-469a-8ff1-1c2abc4e30df",
   "metadata": {},
   "outputs": [],
   "source": []
  },
  {
   "cell_type": "markdown",
   "id": "6aaef05a-2cb9-4b12-bf86-ae6d63665036",
   "metadata": {},
   "source": [
    "### Temperature Control"
   ]
  },
  {
   "cell_type": "code",
   "execution_count": 7,
   "id": "29a021ca-70b6-4a66-bd6d-570d99df7902",
   "metadata": {},
   "outputs": [
    {
     "name": "stdout",
     "output_type": "stream",
     "text": [
      "0 {1: '257', 2: '257', 3: '255'}\n",
      "1 {1: '257', 2: '257', 3: '255'}\n"
     ]
    },
    {
     "name": "stderr",
     "output_type": "stream",
     "text": [
      "Error parsing response to RAT2: Response too short: b'\\xb2 `'\n"
     ]
    },
    {
     "ename": "ValueError",
     "evalue": "Response too short: b'\\xb2 `'",
     "output_type": "error",
     "traceback": [
      "\u001b[0;31m---------------------------------------------------------------------------\u001b[0m",
      "\u001b[0;31mValueError\u001b[0m                                Traceback (most recent call last)",
      "Cell \u001b[0;32mIn[7], line 5\u001b[0m\n\u001b[1;32m      2\u001b[0m temp_meas \u001b[38;5;241m=\u001b[39m {}\n\u001b[1;32m      4\u001b[0m \u001b[38;5;28;01mfor\u001b[39;00m x \u001b[38;5;129;01min\u001b[39;00m \u001b[38;5;28mrange\u001b[39m(\u001b[38;5;241m1\u001b[39m,\u001b[38;5;241m4\u001b[39m):\n\u001b[0;32m----> 5\u001b[0m     temp_meas[x] \u001b[38;5;241m=\u001b[39m \u001b[38;5;28;01mawait\u001b[39;00m incubator\u001b[38;5;241m.\u001b[39msend_command(\u001b[38;5;124mf\u001b[39m\u001b[38;5;124m\"\u001b[39m\u001b[38;5;124mRAT\u001b[39m\u001b[38;5;132;01m{\u001b[39;00mx\u001b[38;5;132;01m}\u001b[39;00m\u001b[38;5;124m\"\u001b[39m, read_timeout\u001b[38;5;241m=\u001b[39m\u001b[38;5;241m60\u001b[39m)\n\u001b[1;32m      7\u001b[0m \u001b[38;5;28mprint\u001b[39m(t, temp_meas)\n\u001b[1;32m      8\u001b[0m time\u001b[38;5;241m.\u001b[39msleep(\u001b[38;5;241m1\u001b[39m)\n",
      "Cell \u001b[0;32mIn[1], line 169\u001b[0m, in \u001b[0;36mInhecoIncubatorShakerBackend.send_command\u001b[0;34m(self, command, subdevice, delay, read_timeout)\u001b[0m\n\u001b[1;32m    167\u001b[0m \u001b[38;5;28;01mtry\u001b[39;00m:\n\u001b[1;32m    168\u001b[0m     \u001b[38;5;28;01mif\u001b[39;00m \u001b[38;5;28mself\u001b[39m\u001b[38;5;241m.\u001b[39m_is_report_command(command):\n\u001b[0;32m--> 169\u001b[0m         \u001b[38;5;28;01mreturn\u001b[39;00m \u001b[38;5;28;43mself\u001b[39;49m\u001b[38;5;241;43m.\u001b[39;49m\u001b[43m_parse_response_bytes\u001b[49m\u001b[43m(\u001b[49m\u001b[43mresponse\u001b[49m\u001b[43m)\u001b[49m\n\u001b[1;32m    170\u001b[0m     \u001b[38;5;28;01melse\u001b[39;00m:\n\u001b[1;32m    171\u001b[0m         \u001b[38;5;28mself\u001b[39m\u001b[38;5;241m.\u001b[39m_validate_acknowledgement(response)\n",
      "Cell \u001b[0;32mIn[1], line 133\u001b[0m, in \u001b[0;36mInhecoIncubatorShakerBackend._parse_response_bytes\u001b[0;34m(self, response)\u001b[0m\n\u001b[1;32m    131\u001b[0m \u001b[38;5;28;01mdef\u001b[39;00m \u001b[38;5;21m_parse_response_bytes\u001b[39m(\u001b[38;5;28mself\u001b[39m, response: \u001b[38;5;28mbytes\u001b[39m) \u001b[38;5;241m-\u001b[39m\u001b[38;5;241m>\u001b[39m \u001b[38;5;28mstr\u001b[39m:\n\u001b[1;32m    132\u001b[0m     \u001b[38;5;28;01mif\u001b[39;00m \u001b[38;5;28mlen\u001b[39m(response) \u001b[38;5;241m<\u001b[39m \u001b[38;5;241m4\u001b[39m:\n\u001b[0;32m--> 133\u001b[0m         \u001b[38;5;28;01mraise\u001b[39;00m \u001b[38;5;167;01mValueError\u001b[39;00m(\u001b[38;5;124mf\u001b[39m\u001b[38;5;124m\"\u001b[39m\u001b[38;5;124mResponse too short: \u001b[39m\u001b[38;5;132;01m{\u001b[39;00mresponse\u001b[38;5;132;01m}\u001b[39;00m\u001b[38;5;124m\"\u001b[39m)\n\u001b[1;32m    135\u001b[0m     expected_header \u001b[38;5;241m=\u001b[39m \u001b[38;5;241m0x30\u001b[39m \u001b[38;5;241m+\u001b[39m \u001b[38;5;28mself\u001b[39m\u001b[38;5;241m.\u001b[39mdevice_id \u001b[38;5;241m+\u001b[39m \u001b[38;5;241m0x80\u001b[39m  \u001b[38;5;66;03m# 0xB0 + device_id\u001b[39;00m\n\u001b[1;32m    136\u001b[0m     expected_tail \u001b[38;5;241m=\u001b[39m \u001b[38;5;124mb\u001b[39m\u001b[38;5;124m\"\u001b[39m\u001b[38;5;130;01m\\x20\u001b[39;00m\u001b[38;5;130;01m\\x60\u001b[39;00m\u001b[38;5;124m\"\u001b[39m\n",
      "\u001b[0;31mValueError\u001b[0m: Response too short: b'\\xb2 `'"
     ]
    }
   ],
   "source": [
    "for t in range(5):\n",
    "    temp_meas = {}\n",
    "    \n",
    "    for x in range(1,4):\n",
    "        temp_meas[x] = await incubator.send_command(f\"RAT{x}\", read_timeout=60)\n",
    "\n",
    "    print(t, temp_meas)\n",
    "    time.sleep(1)\n",
    "\n",
    "# This command reports the actual ambient or slot temperatures of the three sensors.\n",
    "# It can be chosen whether the evaluated temperature or the sensor value should be reported.\n",
    "# The temperatures are reported in 1/10 °C: 345 = 34,5 °C"
   ]
  },
  {
   "cell_type": "code",
   "execution_count": null,
   "id": "0acc085c-3454-4ecd-96a5-78b0ec6ff808",
   "metadata": {},
   "outputs": [],
   "source": [
    "await incubator.send_command(\"RTT\", read_timeout=60)\n"
   ]
  },
  {
   "cell_type": "code",
   "execution_count": null,
   "id": "5822eab3-d2c5-4266-8031-7abec1ff96a3",
   "metadata": {},
   "outputs": [],
   "source": [
    "await incubator.send_command(\"STT700\", read_timeout=60)\n"
   ]
  },
  {
   "cell_type": "code",
   "execution_count": null,
   "id": "b0408abc-cefd-40c6-994f-13ec9989c626",
   "metadata": {},
   "outputs": [],
   "source": []
  },
  {
   "cell_type": "markdown",
   "id": "58c0aa31-9b6b-426f-a038-cdb80614c005",
   "metadata": {},
   "source": [
    "### Shaking Control\n",
    "\n",
    "TODO"
   ]
  },
  {
   "cell_type": "code",
   "execution_count": null,
   "id": "a0dfa8c5-5815-439c-b4ca-1607c2e99844",
   "metadata": {},
   "outputs": [],
   "source": []
  },
  {
   "cell_type": "code",
   "execution_count": null,
   "id": "2ea08f9b-bbc4-47d2-be23-da541ebf65cf",
   "metadata": {},
   "outputs": [],
   "source": [
    "import serial.tools.list_ports\n",
    "\n",
    "def list_serial_devices():\n",
    "    ports = serial.tools.list_ports.comports()\n",
    "    for port in ports:\n",
    "        print(f\"Device: {port.device}\")\n",
    "        print(f\"  Description: {port.description}\")\n",
    "        print(f\"  HWID: {port.hwid}\")\n",
    "        print(\"-\" * 40)\n",
    "\n",
    "if __name__ == \"__main__\":\n",
    "    print(\"Scanning USB serial devices...\")\n",
    "    list_serial_devices()\n"
   ]
  }
 ],
 "metadata": {
  "kernelspec": {
   "display_name": "Python 3 (ipykernel)",
   "language": "python",
   "name": "python3"
  },
  "language_info": {
   "codemirror_mode": {
    "name": "ipython",
    "version": 3
   },
   "file_extension": ".py",
   "mimetype": "text/x-python",
   "name": "python",
   "nbconvert_exporter": "python",
   "pygments_lexer": "ipython3",
   "version": "3.10.13"
  }
 },
 "nbformat": 4,
 "nbformat_minor": 5
}
