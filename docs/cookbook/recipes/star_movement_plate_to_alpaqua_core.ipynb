{
 "cells": [
  {
   "cell_type": "markdown",
   "metadata": {},
   "source": [
    "# Moving plate onto Alpaqua magnet using CORE grippers\n",
    "\n",
    "Information:\n",
    "- PLR Recipe ID #1\n",
    "- Machines used:\n",
    "  - Hamilton STAR\n",
    "- Non-PLR dependencies: None \n",
    "- tags: #resourcemovement #plateadapter #star\n",
    "- Author: Camillo Moschner\n",
    "- Version history: 0 (2025-10-21)"
   ]
  },
  {
   "cell_type": "markdown",
   "metadata": {},
   "source": [
    "## Set Protocol Mode"
   ]
  },
  {
   "cell_type": "code",
   "execution_count": null,
   "metadata": {},
   "outputs": [],
   "source": [
    "protocol_mode = \"simulation\" # \"execution\" or \"simulation\""
   ]
  },
  {
   "cell_type": "markdown",
   "metadata": {},
   "source": [
    "---\n",
    "## Import Statements"
   ]
  },
  {
   "cell_type": "markdown",
   "metadata": {},
   "source": [
    "### Machine & Visualizer"
   ]
  },
  {
   "cell_type": "code",
   "execution_count": null,
   "metadata": {},
   "outputs": [],
   "source": [
    "%load_ext autoreload\n",
    "%autoreload 2\n",
    "       \n",
    "import random \n",
    "import time\n",
    "\n",
    "from pylabrobot.liquid_handling import LiquidHandler\n",
    "from pylabrobot.resources.hamilton import STARLetDeck\n",
    "from pylabrobot.visualizer.visualizer import Visualizer\n",
    "\n",
    "if protocol_mode == \"execution\":\n",
    "\n",
    "    from pylabrobot.liquid_handling.backends import STARBackend\n",
    "\n",
    "    backend = STARBackend()\n",
    "\n",
    "elif protocol_mode == \"simulation\":\n",
    "\n",
    "    from pylabrobot.liquid_handling.backends.hamilton.STAR_chatterbox import STARChatterboxBackend\n",
    "    \n",
    "    backend = STARChatterboxBackend()\n"
   ]
  },
  {
   "cell_type": "markdown",
   "metadata": {},
   "source": [
    "### Required Resources"
   ]
  },
  {
   "cell_type": "code",
   "execution_count": null,
   "metadata": {},
   "outputs": [],
   "source": [
    "from pylabrobot.resources import (\n",
    "    MFX_CAR_L5_base , # MFX CARRIERS\n",
    "    MFX_DWP_rackbased_module, Hamilton_MFX_plateholder_DWP_metal_tapped,\n",
    "    Alpaqua_96_magnum_flx,\n",
    "    Azenta4titudeFrameStar_96_wellplate_200ul_Vb,\n",
    ")"
   ]
  },
  {
   "cell_type": "markdown",
   "metadata": {},
   "source": [
    "## Instantiate Frontend & Connect to Machine"
   ]
  },
  {
   "cell_type": "code",
   "execution_count": null,
   "metadata": {},
   "outputs": [],
   "source": [
    "# # # Frontend & Visualizer Setup # # #\n",
    "\n",
    "lh = LiquidHandler(backend=backend, deck=STARLetDeck())\n",
    "\n",
    "await lh.setup()\n",
    "\n",
    "vis = Visualizer(resource=lh)\n",
    "await vis.setup()\n",
    "\n",
    "await lh.backend.disable_cover_control() # 😈"
   ]
  },
  {
   "cell_type": "markdown",
   "metadata": {},
   "source": [
    "## Configure Deck Layout"
   ]
  },
  {
   "cell_type": "code",
   "execution_count": null,
   "metadata": {},
   "outputs": [],
   "source": [
    "# Setup MFX Carrier for Magnetic Bead Resuspension\n",
    "\n",
    "mfx_plateholder_dwp_1 = Hamilton_MFX_plateholder_DWP_metal_tapped(name=f\"mfx_plateholder_tapped_dwp_0\")\n",
    "\n",
    "mfx_carrier_tapped_plate_holder_example = MFX_CAR_L5_base(\n",
    "  name=\"mfx_carrier_tapped_plate_holder_example\",\n",
    "  modules={\n",
    "      0: mfx_plateholder_dwp_1,\n",
    "  }\n",
    ")\n",
    "\n",
    "mfx_carrier_tapped_plate_holder_example[0] = wash_plate = Azenta4titudeFrameStar_96_wellplate_200ul_Vb(name=\"wash_plate_0\")\n",
    "\n",
    "lh.deck.assign_child_resource(mfx_carrier_tapped_plate_holder_example, rails=1)\n",
    "\n",
    "# Setup Magnet-carrying MFX Carrier\n",
    "\n",
    "DWP_module_0 = MFX_DWP_rackbased_module(name=f\"DWP_module_0\")\n",
    "magnet_0 = Alpaqua_96_magnum_flx(name=f\"alpaqua_magnet_0\")\n",
    "DWP_module_0.assign_child_resource(magnet_0)\n",
    "\n",
    "mfx_carrier_magnet_example = MFX_CAR_L5_base(\n",
    "  name=\"mfx_carrier_magnet_example\",\n",
    "  modules={\n",
    "      0: DWP_module_0,\n",
    "  }\n",
    ")\n",
    "magnet_0.plate_z_offset = 0.62  # <===== PLATE-SPECIFIC !\n",
    "# empirical: distance between bottom of Alpaqua magnet hole bottom to\n",
    "# cavity_bottom of the well that is placed on top of it\n",
    "# use ztouch_probing to measure both \n",
    "\n",
    "lh.deck.assign_child_resource(mfx_carrier_magnet_example, rails=8)\n"
   ]
  },
  {
   "cell_type": "markdown",
   "metadata": {},
   "source": [
    "## Execution"
   ]
  },
  {
   "cell_type": "markdown",
   "metadata": {},
   "source": [
    "### Move Plate Onto Magnet PlateAdapter"
   ]
  },
  {
   "cell_type": "code",
   "execution_count": null,
   "metadata": {},
   "outputs": [],
   "source": [
    "plate_index = 0 # always design for throughput adaptivness ;)\n",
    "\n",
    "plate_to_move = lh.deck.get_resource(f\"wash_plate_{plate_index}\")\n",
    "move_target = lh.deck.get_resource(f\"alpaqua_magnet_{plate_index}\")\n",
    "\n",
    "\n",
    "back_channel_idx = random.randint(1, 6)  # Reduce wear & tear on any single channel\n",
    "\n",
    "if protocol_mode == \"simulation\":\n",
    "    time.sleep(2)\n",
    "    \n",
    "await lh.move_plate(\n",
    "    plate=plate_to_move,\n",
    "    to=move_target,\n",
    "    use_arm=\"core\",\n",
    "    channel_1=back_channel_idx,\n",
    "    channel_2=back_channel_idx + 1,\n",
    "    pickup_distance_from_top=6,\n",
    "    core_grip_strength=40,\n",
    "    return_core_gripper=False,\n",
    ")\n",
    "\n",
    "if protocol_mode == \"execution\":\n",
    "    # \"smart\" command, will ask operator for input if it cannot find plate in move_target location\n",
    "    # place into condition for simulation mode\n",
    "\n",
    "    # (1) check transfer success, (2) push plate flush\n",
    "    await lh.backend.core_check_resource_exists_at_location_center(\n",
    "        location=plate_to_move.get_absolute_location(),\n",
    "        resource=plate_to_move,\n",
    "        gripper_y_margin=9,\n",
    "        enable_recovery=True,\n",
    "        audio_feedback=False,\n",
    "    )\n",
    "\n",
    "print(lh.backend.core_parked)\n",
    "# >>> False # save time - keep CORE grippers on channels during magnetisation time\n",
    "\n",
    "if protocol_mode == \"simulation\":\n",
    "    time.sleep(2)"
   ]
  },
  {
   "cell_type": "markdown",
   "metadata": {},
   "source": [
    "### Move Plate back onto tapped PlateHolder"
   ]
  },
  {
   "cell_type": "code",
   "execution_count": null,
   "metadata": {},
   "outputs": [],
   "source": [
    "move_target = lh.deck.get_resource(f\"mfx_plateholder_tapped_dwp_{plate_index}\")\n",
    "\n",
    "await lh.move_plate(\n",
    "    plate=plate_to_move,\n",
    "    to=move_target,\n",
    "    use_arm=\"core\",\n",
    "    channel_1=back_channel_idx,\n",
    "    channel_2=back_channel_idx + 1,\n",
    "    pickup_distance_from_top=6,\n",
    "    core_grip_strength=40,\n",
    "    return_core_gripper=False,\n",
    ")\n",
    "\n",
    "if protocol_mode == \"execution\":\n",
    "\n",
    "    await lh.backend.core_check_resource_exists_at_location_center(\n",
    "        location=plate_to_move.get_absolute_location(),\n",
    "        resource=plate_to_move,\n",
    "        gripper_y_margin=9,\n",
    "        enable_recovery=True,\n",
    "        audio_feedback=False,\n",
    "    )\n",
    "    \n",
    "await lh.backend.put_core()\n",
    "\n",
    "print(lh.backend.core_parked)\n",
    "# >>> True"
   ]
  }
 ],
 "metadata": {
  "language_info": {
   "name": "python"
  }
 },
 "nbformat": 4,
 "nbformat_minor": 2
}
