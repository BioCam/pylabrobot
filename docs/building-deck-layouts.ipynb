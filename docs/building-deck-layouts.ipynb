{
  "cells": [
    {
      "cell_type": "markdown",
      "metadata": {},
      "source": [
        "# Building Deck Layouts\n",
        "\n",
        "This notebook demonstrates how to build deck layouts."
      ]
    },
    {
      "cell_type": "markdown",
      "metadata": {},
      "source": [
        "The simulator is a web application that allows you to easily build and inspect deck layouts. Let's use it here.\n",
        "\n",
        "> For more information on how to use the Simulator, see the [Using the Simulator](/using-the-simulator.ipynb)."
      ]
    },
    {
      "cell_type": "code",
      "execution_count": null,
      "metadata": {},
      "outputs": [],
      "source": [
        "from pylabrobot.liquid_handling import LiquidHandler\n",
        "from pylabrobot.liquid_handling.backends.simulation.simulation import SimulationBackend"
      ]
    },
    {
      "cell_type": "markdown",
      "metadata": {},
      "source": []
    }
  ],
  "metadata": {
    "kernelspec": {
      "display_name": "Python 3.9.13 ('env': venv)",
      "language": "python",
      "name": "python3"
    },
    "language_info": {
      "name": "python",
      "version": "3.9.13"
    },
    "orig_nbformat": 4,
    "vscode": {
      "interpreter": {
        "hash": "6e5e9a52bea1f3c874f7ce9de0fc0abec3251fa5b8afaaae3ddcaf5178d77357"
      }
    }
  },
  "nbformat": 4,
  "nbformat_minor": 2
}
