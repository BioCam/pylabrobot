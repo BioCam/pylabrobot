{
 "cells": [
  {
   "cell_type": "markdown",
   "metadata": {},
   "source": [
    "# Using tip trackers\n",
    "\n",
    "PyLabRobot has tip trackers for both the pipetting channels and the spots in the tip rack. The tip tracker is a simple class that keeps track of the current tip, and the previous operations that have been performed on an object. This enables features like {meth}`~pylabrobot.liquid_handling.LiquidHandler.return_tips` and automated tip type detection."
   ]
  },
  {
   "cell_type": "code",
   "execution_count": 1,
   "metadata": {},
   "outputs": [],
   "source": [
    "from pylabrobot.liquid_handling import LiquidHandler, SerializingSavingBackend\n",
    "from pylabrobot.liquid_handling.resources.ml_star import HTF_L, TIP_CAR_480_A00\n",
    "from pylabrobot.liquid_handling.resources.hamilton import STARLetDeck\n",
    "\n",
    "lh = LiquidHandler(backend=SerializingSavingBackend(num_channels=8), deck=STARLetDeck())\n",
    "lh.setup()"
   ]
  },
  {
   "cell_type": "code",
   "execution_count": 2,
   "metadata": {},
   "outputs": [],
   "source": [
    "tip_carrier = TIP_CAR_480_A00(name=\"tip carrier\") # initialize a tip carrier"
   ]
  },
  {
   "cell_type": "markdown",
   "metadata": {},
   "source": [
    "## Using the tip tracker"
   ]
  },
  {
   "cell_type": "markdown",
   "metadata": {},
   "source": [
    "### Initializing tip racks\n",
    "\n",
    "Whether or not tip tracking is turned on, spots on a tip rack initialize with a tip tracker that defaults to having a tip. The tip tracker only comes into play with performing operations."
   ]
  },
  {
   "cell_type": "code",
   "execution_count": 3,
   "metadata": {},
   "outputs": [],
   "source": [
    "tip_carrier[0] = tip_rack = HTF_L(name=\"tip rack\")"
   ]
  },
  {
   "cell_type": "code",
   "execution_count": 4,
   "metadata": {},
   "outputs": [
    {
     "data": {
      "text/plain": [
       "True"
      ]
     },
     "execution_count": 4,
     "metadata": {},
     "output_type": "execute_result"
    }
   ],
   "source": [
    "tip_rack.get_item(\"A1\").tracker.has_tip"
   ]
  },
  {
   "cell_type": "markdown",
   "metadata": {},
   "source": [
    "To initialize a tip rack without tips, pass `with_tips=False`:"
   ]
  },
  {
   "cell_type": "code",
   "execution_count": 5,
   "metadata": {},
   "outputs": [],
   "source": [
    "tip_carrier[1] = empty_tip_rack = HTF_L(name=\"empty tip rack\", with_tips=False)"
   ]
  },
  {
   "cell_type": "code",
   "execution_count": 6,
   "metadata": {},
   "outputs": [
    {
     "data": {
      "text/plain": [
       "False"
      ]
     },
     "execution_count": 6,
     "metadata": {},
     "output_type": "execute_result"
    }
   ],
   "source": [
    "empty_tip_rack.get_item(\"A1\").tracker.has_tip"
   ]
  },
  {
   "cell_type": "markdown",
   "metadata": {},
   "source": [
    "To \"empty\" a tip rack after initialization, use the {meth}`~pylabrobot.liquid_handling.resources.abstract.TipRack.empty()` method. To \"fill\" a tip rack after initialization, use the {meth}`~pylabrobot.liquid_handling.resources.abstract.TipRack.fill()` method."
   ]
  },
  {
   "cell_type": "code",
   "execution_count": 7,
   "metadata": {},
   "outputs": [
    {
     "data": {
      "text/plain": [
       "True"
      ]
     },
     "execution_count": 7,
     "metadata": {},
     "output_type": "execute_result"
    }
   ],
   "source": [
    "empty_tip_rack.fill()\n",
    "empty_tip_rack.get_item(\"A1\").tracker.has_tip"
   ]
  },
  {
   "cell_type": "code",
   "execution_count": 8,
   "metadata": {},
   "outputs": [
    {
     "data": {
      "text/plain": [
       "False"
      ]
     },
     "execution_count": 8,
     "metadata": {},
     "output_type": "execute_result"
    }
   ],
   "source": [
    "empty_tip_rack.empty()\n",
    "empty_tip_rack.get_item(\"A1\").tracker.has_tip"
   ]
  },
  {
   "cell_type": "code",
   "execution_count": 9,
   "metadata": {},
   "outputs": [],
   "source": [
    "lh.deck.assign_child_resource(tip_carrier, rails=3)"
   ]
  },
  {
   "cell_type": "markdown",
   "metadata": {},
   "source": [
    "### Inspecting operation history"
   ]
  },
  {
   "cell_type": "code",
   "execution_count": 10,
   "metadata": {},
   "outputs": [],
   "source": [
    "lh.pick_up_tips(tip_rack[0])"
   ]
  },
  {
   "cell_type": "code",
   "execution_count": 11,
   "metadata": {},
   "outputs": [
    {
     "data": {
      "text/plain": [
       "False"
      ]
     },
     "execution_count": 11,
     "metadata": {},
     "output_type": "execute_result"
    }
   ],
   "source": [
    "tip_rack.get_item(\"A1\").tracker.has_tip"
   ]
  },
  {
   "cell_type": "code",
   "execution_count": 12,
   "metadata": {},
   "outputs": [
    {
     "data": {
      "text/plain": [
       "[Pickup(tip=TipSpot(name=tip rack_tipspot_0_0, location=(011.700, 072.800, -83.500), size_x=9.0, size_y=9.0, size_z=0, category=tip_spot), offset=(000.000, 000.000, 000.000))]"
      ]
     },
     "execution_count": 12,
     "metadata": {},
     "output_type": "execute_result"
    }
   ],
   "source": [
    "tip_rack.get_item(\"A1\").tracker.ops"
   ]
  },
  {
   "cell_type": "code",
   "execution_count": 13,
   "metadata": {},
   "outputs": [],
   "source": [
    "lh.drop_tips(tip_rack[0])"
   ]
  },
  {
   "cell_type": "code",
   "execution_count": 14,
   "metadata": {},
   "outputs": [
    {
     "data": {
      "text/plain": [
       "True"
      ]
     },
     "execution_count": 14,
     "metadata": {},
     "output_type": "execute_result"
    }
   ],
   "source": [
    "tip_rack.get_item(\"A1\").tracker.has_tip"
   ]
  },
  {
   "cell_type": "code",
   "execution_count": 15,
   "metadata": {},
   "outputs": [
    {
     "data": {
      "text/plain": [
       "[Pickup(tip=TipSpot(name=tip rack_tipspot_0_0, location=(011.700, 072.800, -83.500), size_x=9.0, size_y=9.0, size_z=0, category=tip_spot), offset=(000.000, 000.000, 000.000)),\n",
       " Drop(tip=TipSpot(name=tip rack_tipspot_0_0, location=(011.700, 072.800, -83.500), size_x=9.0, size_y=9.0, size_z=0, category=tip_spot), offset=(000.000, 000.000, 000.000))]"
      ]
     },
     "execution_count": 15,
     "metadata": {},
     "output_type": "execute_result"
    }
   ],
   "source": [
    "tip_rack.get_item(\"A1\").tracker.ops"
   ]
  },
  {
   "cell_type": "markdown",
   "metadata": {},
   "source": [
    "### Errors\n",
    "\n",
    "The tip tracker is most useful for catching hardware errors before they happen. With tip tracking turned on, the following errors can be raised:"
   ]
  },
  {
   "cell_type": "code",
   "execution_count": 16,
   "metadata": {},
   "outputs": [],
   "source": [
    "from pylabrobot.liquid_handling.errors import (\n",
    "  ChannelHasTipError,\n",
    "  ChannelHasNoTipError,\n",
    "  TipSpotHasTipError,\n",
    "  TipSpotHasNoTipError,\n",
    ")"
   ]
  },
  {
   "cell_type": "markdown",
   "metadata": {},
   "source": [
    "#### `TipSpotHasNoTipError`\n",
    "\n",
    "This error is raised when the tip tracker is trying to access a spot that has no tip."
   ]
  },
  {
   "cell_type": "code",
   "execution_count": 17,
   "metadata": {},
   "outputs": [
    {
     "name": "stdout",
     "output_type": "stream",
     "text": [
      "As expected: Tip spot tip rack_tipspot_0_0 has no tip.\n"
     ]
    }
   ],
   "source": [
    "lh.pick_up_tips(tip_rack[0])\n",
    "lh.drop_tips(empty_tip_rack[0])\n",
    "\n",
    "try:\n",
    "  lh.pick_up_tips(tip_rack[0])\n",
    "except TipSpotHasNoTipError as e:\n",
    "  print(\"As expected:\", e)"
   ]
  },
  {
   "cell_type": "markdown",
   "metadata": {},
   "source": [
    "#### `TipSpotHasTipError`\n",
    "\n",
    "This error is raised when the tip tracker is trying to access a spot that has a tip."
   ]
  },
  {
   "cell_type": "code",
   "execution_count": 18,
   "metadata": {},
   "outputs": [
    {
     "name": "stdout",
     "output_type": "stream",
     "text": [
      "As expected: Tip spot empty tip rack_tipspot_0_0 already has a tip.\n"
     ]
    }
   ],
   "source": [
    "lh.pick_up_tips(tip_rack[1])\n",
    "\n",
    "try:\n",
    "  lh.drop_tips(empty_tip_rack[0])\n",
    "except TipSpotHasTipError as e:\n",
    "  print(\"As expected:\", e)"
   ]
  },
  {
   "cell_type": "code",
   "execution_count": 19,
   "metadata": {},
   "outputs": [],
   "source": [
    "lh.drop_tips(empty_tip_rack[1])"
   ]
  },
  {
   "cell_type": "markdown",
   "metadata": {},
   "source": [
    "#### `ChannelHasNoTipError`\n",
    "\n",
    "This error is raised when the tip tracker is trying to use a channel that has no tip."
   ]
  },
  {
   "cell_type": "code",
   "execution_count": 20,
   "metadata": {},
   "outputs": [
    {
     "name": "stdout",
     "output_type": "stream",
     "text": [
      "As expected: Channel has no tip.\n"
     ]
    }
   ],
   "source": [
    "try:\n",
    "  lh.drop_tips(empty_tip_rack[2])\n",
    "except ChannelHasNoTipError as e:\n",
    "  print(\"As expected:\", e)"
   ]
  },
  {
   "cell_type": "markdown",
   "metadata": {},
   "source": [
    "#### `ChannelHasTipError`\n",
    "\n",
    "This error is raised when the tip tracker is trying to use a channel that has a tip."
   ]
  },
  {
   "cell_type": "code",
   "execution_count": 21,
   "metadata": {},
   "outputs": [
    {
     "name": "stdout",
     "output_type": "stream",
     "text": [
      "As expected: Channel already has tip.\n"
     ]
    }
   ],
   "source": [
    "lh.pick_up_tips(tip_rack[2])\n",
    "\n",
    "try:\n",
    "  lh.pick_up_tips(tip_rack[3])\n",
    "except ChannelHasTipError as e:\n",
    "  print(\"As expected:\", e)"
   ]
  },
  {
   "cell_type": "markdown",
   "metadata": {},
   "source": [
    "## Disabling the tip tracker\n",
    "\n",
    "The tip tracker can be disabled in three different ways, depending on the desired behavior."
   ]
  },
  {
   "cell_type": "markdown",
   "metadata": {},
   "source": [
    "### Using a context manager\n",
    "\n",
    "The `liquid_handling` package has a {meth}`pylabrobot.liquid_handling.no_tip_tracking` context manager that can be used to disable the tip tracker for a set of operations."
   ]
  },
  {
   "cell_type": "code",
   "execution_count": 22,
   "metadata": {},
   "outputs": [],
   "source": [
    "from pylabrobot.liquid_handling import no_tip_tracking\n",
    "\n",
    "with no_tip_tracking():\n",
    "  lh.pick_up_tips(tip_rack[4])\n",
    "  lh.pick_up_tips(tip_rack[4]) # no error"
   ]
  },
  {
   "cell_type": "markdown",
   "metadata": {},
   "source": [
    "### For a single object\n",
    "\n",
    "The tip tracker can be disabled for a single object by calling {meth}`pylabrobot.liquid_handling.tip_tracker.TipTracker.disable()` on the tracker object."
   ]
  },
  {
   "cell_type": "code",
   "execution_count": 23,
   "metadata": {},
   "outputs": [],
   "source": [
    "tip_rack.get_item(5).tracker.disable()\n",
    "\n",
    "lh.pick_up_tips(tip_rack[5])\n",
    "lh.pick_up_tips(tip_rack[5]) # no error\n",
    "\n",
    "tip_rack.get_item(5).tracker.enable()"
   ]
  },
  {
   "cell_type": "markdown",
   "metadata": {},
   "source": [
    "## Globally\n",
    "\n",
    "The tip tracker can be disabled globally by using {meth}`pylabrobot.liquid_handling.set_tip_tracking`."
   ]
  },
  {
   "cell_type": "code",
   "execution_count": 24,
   "metadata": {},
   "outputs": [],
   "source": [
    "from pylabrobot.liquid_handling import set_tip_tracking\n",
    "\n",
    "set_tip_tracking(enabled=False)\n",
    "\n",
    "lh.pick_up_tips(tip_rack[6])\n",
    "lh.pick_up_tips(tip_rack[6]) # no error\n",
    "\n",
    "set_tip_tracking(enabled=True)"
   ]
  }
 ],
 "metadata": {
  "kernelspec": {
   "display_name": "Python 3.10.8 ('env': venv)",
   "language": "python",
   "name": "python3"
  },
  "language_info": {
   "codemirror_mode": {
    "name": "ipython",
    "version": 3
   },
   "file_extension": ".py",
   "mimetype": "text/x-python",
   "name": "python",
   "nbconvert_exporter": "python",
   "pygments_lexer": "ipython3",
   "version": "3.10.8"
  },
  "orig_nbformat": 4,
  "vscode": {
   "interpreter": {
    "hash": "bf274dfc1b974177267b6b8fba8543eeb0bb4c5d64c637dde420829b05625268"
   }
  }
 },
 "nbformat": 4,
 "nbformat_minor": 2
}
